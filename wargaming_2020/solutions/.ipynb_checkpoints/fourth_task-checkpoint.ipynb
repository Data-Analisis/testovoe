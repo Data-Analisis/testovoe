{
 "cells": [
  {
   "cell_type": "code",
   "execution_count": 1,
   "metadata": {},
   "outputs": [],
   "source": [
    "import datetime as dt\n",
    "import pickle\n",
    "from typing import Optional, List\n",
    "\n",
    "from iso3166 import countries\n",
    "\n",
    "import pandas as pd\n",
    "import numpy as np\n",
    "from category_encoders import HelmertEncoder\n",
    "from sklearn.model_selection import train_test_split\n",
    "from sklearn.metrics import classification_report\n",
    "from catboost import CatBoostClassifier\n",
    "\n",
    "import matplotlib.pyplot as plt\n",
    "import seaborn as sns\n",
    "%matplotlib inline\n",
    "\n",
    "import warnings\n",
    "warnings.filterwarnings(\"ignore\")"
   ]
  },
  {
   "cell_type": "markdown",
   "metadata": {},
   "source": [
    "### Изучаем данные: "
   ]
  },
  {
   "cell_type": "code",
   "execution_count": 2,
   "metadata": {},
   "outputs": [
    {
     "data": {
      "text/html": [
       "<div>\n",
       "<style scoped>\n",
       "    .dataframe tbody tr th:only-of-type {\n",
       "        vertical-align: middle;\n",
       "    }\n",
       "\n",
       "    .dataframe tbody tr th {\n",
       "        vertical-align: top;\n",
       "    }\n",
       "\n",
       "    .dataframe thead th {\n",
       "        text-align: right;\n",
       "    }\n",
       "</style>\n",
       "<table border=\"1\" class=\"dataframe\">\n",
       "  <thead>\n",
       "    <tr style=\"text-align: right;\">\n",
       "      <th></th>\n",
       "      <th>landing_page</th>\n",
       "      <th>user_id</th>\n",
       "      <th>show_date_time</th>\n",
       "      <th>browser_version</th>\n",
       "      <th>browser</th>\n",
       "      <th>os_name</th>\n",
       "      <th>country</th>\n",
       "    </tr>\n",
       "  </thead>\n",
       "  <tbody>\n",
       "    <tr>\n",
       "      <th>0</th>\n",
       "      <td>lpceuwottvq4</td>\n",
       "      <td>NaN</td>\n",
       "      <td>2015-02-01 00:00:46</td>\n",
       "      <td>39.0.2171.65</td>\n",
       "      <td>Chrome</td>\n",
       "      <td>Windows</td>\n",
       "      <td>CZ</td>\n",
       "    </tr>\n",
       "    <tr>\n",
       "      <th>1</th>\n",
       "      <td>lpceuwottvq4</td>\n",
       "      <td>NaN</td>\n",
       "      <td>2015-02-01 00:04:30</td>\n",
       "      <td>NaN</td>\n",
       "      <td>AndroidBrowser</td>\n",
       "      <td>Linux</td>\n",
       "      <td>DE</td>\n",
       "    </tr>\n",
       "    <tr>\n",
       "      <th>2</th>\n",
       "      <td>lpceuwottvq4</td>\n",
       "      <td>NaN</td>\n",
       "      <td>2015-02-01 00:08:53</td>\n",
       "      <td>11.0</td>\n",
       "      <td>Microsoft Internet Explorer</td>\n",
       "      <td>Windows</td>\n",
       "      <td>GB</td>\n",
       "    </tr>\n",
       "    <tr>\n",
       "      <th>3</th>\n",
       "      <td>lpceuwottvq4</td>\n",
       "      <td>NaN</td>\n",
       "      <td>2015-02-01 00:28:59</td>\n",
       "      <td>40.0.2214.94</td>\n",
       "      <td>Chrome</td>\n",
       "      <td>Windows</td>\n",
       "      <td>PL</td>\n",
       "    </tr>\n",
       "    <tr>\n",
       "      <th>4</th>\n",
       "      <td>lpceuwottvq4</td>\n",
       "      <td>NaN</td>\n",
       "      <td>2015-02-01 00:29:11</td>\n",
       "      <td>11.0</td>\n",
       "      <td>Microsoft Internet Explorer</td>\n",
       "      <td>Windows</td>\n",
       "      <td>FR</td>\n",
       "    </tr>\n",
       "  </tbody>\n",
       "</table>\n",
       "</div>"
      ],
      "text/plain": [
       "   landing_page  user_id      show_date_time browser_version  \\\n",
       "0  lpceuwottvq4      NaN 2015-02-01 00:00:46    39.0.2171.65   \n",
       "1  lpceuwottvq4      NaN 2015-02-01 00:04:30             NaN   \n",
       "2  lpceuwottvq4      NaN 2015-02-01 00:08:53            11.0   \n",
       "3  lpceuwottvq4      NaN 2015-02-01 00:28:59    40.0.2214.94   \n",
       "4  lpceuwottvq4      NaN 2015-02-01 00:29:11            11.0   \n",
       "\n",
       "                       browser  os_name country  \n",
       "0                       Chrome  Windows      CZ  \n",
       "1               AndroidBrowser    Linux      DE  \n",
       "2  Microsoft Internet Explorer  Windows      GB  \n",
       "3                       Chrome  Windows      PL  \n",
       "4  Microsoft Internet Explorer  Windows      FR  "
      ]
     },
     "execution_count": 2,
     "metadata": {},
     "output_type": "execute_result"
    }
   ],
   "source": [
    "df = pd.read_excel('Landing Page Data.xlsx')\n",
    "df.head()"
   ]
  },
  {
   "cell_type": "code",
   "execution_count": 3,
   "metadata": {},
   "outputs": [
    {
     "name": "stdout",
     "output_type": "stream",
     "text": [
      "<class 'pandas.core.frame.DataFrame'>\n",
      "RangeIndex: 15466 entries, 0 to 15465\n",
      "Data columns (total 7 columns):\n",
      " #   Column           Non-Null Count  Dtype         \n",
      "---  ------           --------------  -----         \n",
      " 0   landing_page     15466 non-null  object        \n",
      " 1   user_id          2192 non-null   float64       \n",
      " 2   show_date_time   15466 non-null  datetime64[ns]\n",
      " 3   browser_version  14698 non-null  object        \n",
      " 4   browser          15314 non-null  object        \n",
      " 5   os_name          15188 non-null  object        \n",
      " 6   country          15466 non-null  object        \n",
      "dtypes: datetime64[ns](1), float64(1), object(5)\n",
      "memory usage: 845.9+ KB\n"
     ]
    }
   ],
   "source": [
    "# У нас есть пустые значения:\n",
    "df.info()"
   ]
  },
  {
   "cell_type": "code",
   "execution_count": 4,
   "metadata": {},
   "outputs": [
    {
     "data": {
      "text/plain": [
       "lpceuwottvq4             12400\n",
       "woteutvsupport            2392\n",
       "na-carnival-info-page      674\n",
       "Name: landing_page, dtype: int64"
      ]
     },
     "execution_count": 4,
     "metadata": {},
     "output_type": "execute_result"
    }
   ],
   "source": [
    "df['landing_page'].value_counts()"
   ]
  },
  {
   "cell_type": "markdown",
   "metadata": {},
   "source": [
    "#### Можно заметить, что на страницу `na-carnival-info-page` у нас не приходится ни одной конверсии:"
   ]
  },
  {
   "cell_type": "code",
   "execution_count": 5,
   "metadata": {},
   "outputs": [
    {
     "data": {
      "text/plain": [
       "lpceuwottvq4      1780\n",
       "woteutvsupport     412\n",
       "Name: landing_page, dtype: int64"
      ]
     },
     "execution_count": 5,
     "metadata": {},
     "output_type": "execute_result"
    }
   ],
   "source": [
    "df[df['user_id'].notna()]['landing_page'].value_counts()"
   ]
  },
  {
   "cell_type": "markdown",
   "metadata": {},
   "source": [
    "# Предобработка датасета"
   ]
  },
  {
   "cell_type": "code",
   "execution_count": 6,
   "metadata": {},
   "outputs": [],
   "source": [
    "DF = df.copy()"
   ]
  },
  {
   "cell_type": "markdown",
   "metadata": {},
   "source": [
    "Кодируем таргет:"
   ]
  },
  {
   "cell_type": "code",
   "execution_count": 7,
   "metadata": {},
   "outputs": [
    {
     "data": {
      "text/html": [
       "<div>\n",
       "<style scoped>\n",
       "    .dataframe tbody tr th:only-of-type {\n",
       "        vertical-align: middle;\n",
       "    }\n",
       "\n",
       "    .dataframe tbody tr th {\n",
       "        vertical-align: top;\n",
       "    }\n",
       "\n",
       "    .dataframe thead th {\n",
       "        text-align: right;\n",
       "    }\n",
       "</style>\n",
       "<table border=\"1\" class=\"dataframe\">\n",
       "  <thead>\n",
       "    <tr style=\"text-align: right;\">\n",
       "      <th></th>\n",
       "      <th>show_date_time</th>\n",
       "      <th>browser_version</th>\n",
       "      <th>browser</th>\n",
       "      <th>os_name</th>\n",
       "      <th>country</th>\n",
       "      <th>target</th>\n",
       "    </tr>\n",
       "  </thead>\n",
       "  <tbody>\n",
       "    <tr>\n",
       "      <th>0</th>\n",
       "      <td>2015-02-01 00:00:46</td>\n",
       "      <td>39.0.2171.65</td>\n",
       "      <td>Chrome</td>\n",
       "      <td>Windows</td>\n",
       "      <td>CZ</td>\n",
       "      <td>0</td>\n",
       "    </tr>\n",
       "    <tr>\n",
       "      <th>1</th>\n",
       "      <td>2015-02-01 00:04:30</td>\n",
       "      <td>NaN</td>\n",
       "      <td>AndroidBrowser</td>\n",
       "      <td>Linux</td>\n",
       "      <td>DE</td>\n",
       "      <td>0</td>\n",
       "    </tr>\n",
       "    <tr>\n",
       "      <th>2</th>\n",
       "      <td>2015-02-01 00:08:53</td>\n",
       "      <td>11.0</td>\n",
       "      <td>Microsoft Internet Explorer</td>\n",
       "      <td>Windows</td>\n",
       "      <td>GB</td>\n",
       "      <td>0</td>\n",
       "    </tr>\n",
       "    <tr>\n",
       "      <th>3</th>\n",
       "      <td>2015-02-01 00:28:59</td>\n",
       "      <td>40.0.2214.94</td>\n",
       "      <td>Chrome</td>\n",
       "      <td>Windows</td>\n",
       "      <td>PL</td>\n",
       "      <td>0</td>\n",
       "    </tr>\n",
       "    <tr>\n",
       "      <th>4</th>\n",
       "      <td>2015-02-01 00:29:11</td>\n",
       "      <td>11.0</td>\n",
       "      <td>Microsoft Internet Explorer</td>\n",
       "      <td>Windows</td>\n",
       "      <td>FR</td>\n",
       "      <td>0</td>\n",
       "    </tr>\n",
       "  </tbody>\n",
       "</table>\n",
       "</div>"
      ],
      "text/plain": [
       "       show_date_time browser_version                      browser  os_name  \\\n",
       "0 2015-02-01 00:00:46    39.0.2171.65                       Chrome  Windows   \n",
       "1 2015-02-01 00:04:30             NaN               AndroidBrowser    Linux   \n",
       "2 2015-02-01 00:08:53            11.0  Microsoft Internet Explorer  Windows   \n",
       "3 2015-02-01 00:28:59    40.0.2214.94                       Chrome  Windows   \n",
       "4 2015-02-01 00:29:11            11.0  Microsoft Internet Explorer  Windows   \n",
       "\n",
       "  country  target  \n",
       "0      CZ       0  \n",
       "1      DE       0  \n",
       "2      GB       0  \n",
       "3      PL       0  \n",
       "4      FR       0  "
      ]
     },
     "execution_count": 7,
     "metadata": {},
     "output_type": "execute_result"
    }
   ],
   "source": [
    "mapper = {\n",
    "    'lpceuwottvq4' : 1,\n",
    "    'woteutvsupport': 2,\n",
    "    'na-carnival-info-page': 3\n",
    "}\n",
    "\n",
    "df['target'] = df['user_id']\n",
    "df['target'] = df['target'].apply(lambda x: 0 if np.isnan(x) else 1)\n",
    "df['landing_page'] = df['landing_page'].apply(lambda x: mapper[x])\n",
    "df['target'] = df.apply(lambda x: x['landing_page'] if x['target'] == 1 else 0, axis=1)\n",
    "df = df.drop(['landing_page', 'user_id'], axis=1)\n",
    "df.head()"
   ]
  },
  {
   "cell_type": "markdown",
   "metadata": {},
   "source": [
    "Извлекаем дополнительные признаки из даты (праздники и день недели):"
   ]
  },
  {
   "cell_type": "code",
   "execution_count": 8,
   "metadata": {},
   "outputs": [
    {
     "data": {
      "text/html": [
       "<div>\n",
       "<style scoped>\n",
       "    .dataframe tbody tr th:only-of-type {\n",
       "        vertical-align: middle;\n",
       "    }\n",
       "\n",
       "    .dataframe tbody tr th {\n",
       "        vertical-align: top;\n",
       "    }\n",
       "\n",
       "    .dataframe thead th {\n",
       "        text-align: right;\n",
       "    }\n",
       "</style>\n",
       "<table border=\"1\" class=\"dataframe\">\n",
       "  <thead>\n",
       "    <tr style=\"text-align: right;\">\n",
       "      <th></th>\n",
       "      <th>browser_version</th>\n",
       "      <th>browser</th>\n",
       "      <th>os_name</th>\n",
       "      <th>country</th>\n",
       "      <th>target</th>\n",
       "      <th>day_of_week</th>\n",
       "      <th>is_weekend</th>\n",
       "    </tr>\n",
       "  </thead>\n",
       "  <tbody>\n",
       "    <tr>\n",
       "      <th>0</th>\n",
       "      <td>39.0.2171.65</td>\n",
       "      <td>Chrome</td>\n",
       "      <td>Windows</td>\n",
       "      <td>CZ</td>\n",
       "      <td>0</td>\n",
       "      <td>6</td>\n",
       "      <td>1</td>\n",
       "    </tr>\n",
       "    <tr>\n",
       "      <th>1</th>\n",
       "      <td>NaN</td>\n",
       "      <td>AndroidBrowser</td>\n",
       "      <td>Linux</td>\n",
       "      <td>DE</td>\n",
       "      <td>0</td>\n",
       "      <td>6</td>\n",
       "      <td>1</td>\n",
       "    </tr>\n",
       "    <tr>\n",
       "      <th>2</th>\n",
       "      <td>11.0</td>\n",
       "      <td>Microsoft Internet Explorer</td>\n",
       "      <td>Windows</td>\n",
       "      <td>GB</td>\n",
       "      <td>0</td>\n",
       "      <td>6</td>\n",
       "      <td>1</td>\n",
       "    </tr>\n",
       "    <tr>\n",
       "      <th>3</th>\n",
       "      <td>40.0.2214.94</td>\n",
       "      <td>Chrome</td>\n",
       "      <td>Windows</td>\n",
       "      <td>PL</td>\n",
       "      <td>0</td>\n",
       "      <td>6</td>\n",
       "      <td>1</td>\n",
       "    </tr>\n",
       "    <tr>\n",
       "      <th>4</th>\n",
       "      <td>11.0</td>\n",
       "      <td>Microsoft Internet Explorer</td>\n",
       "      <td>Windows</td>\n",
       "      <td>FR</td>\n",
       "      <td>0</td>\n",
       "      <td>6</td>\n",
       "      <td>1</td>\n",
       "    </tr>\n",
       "  </tbody>\n",
       "</table>\n",
       "</div>"
      ],
      "text/plain": [
       "  browser_version                      browser  os_name country  target  \\\n",
       "0    39.0.2171.65                       Chrome  Windows      CZ       0   \n",
       "1             NaN               AndroidBrowser    Linux      DE       0   \n",
       "2            11.0  Microsoft Internet Explorer  Windows      GB       0   \n",
       "3    40.0.2214.94                       Chrome  Windows      PL       0   \n",
       "4            11.0  Microsoft Internet Explorer  Windows      FR       0   \n",
       "\n",
       "   day_of_week  is_weekend  \n",
       "0            6           1  \n",
       "1            6           1  \n",
       "2            6           1  \n",
       "3            6           1  \n",
       "4            6           1  "
      ]
     },
     "execution_count": 8,
     "metadata": {},
     "output_type": "execute_result"
    }
   ],
   "source": [
    "df['day_of_week'] = df['show_date_time'].dt.dayofweek\n",
    "df['is_weekend'] = df['day_of_week'].apply(lambda x: 1 if x in [5, 6] else 0)\n",
    "df = df.drop('show_date_time', axis=1)\n",
    "df.head()"
   ]
  },
  {
   "cell_type": "markdown",
   "metadata": {},
   "source": [
    "Также нас есть пропущенные элементы, которые нужно заполнить:"
   ]
  },
  {
   "cell_type": "code",
   "execution_count": 9,
   "metadata": {},
   "outputs": [
    {
     "data": {
      "text/plain": [
       "browser_version    768\n",
       "browser            152\n",
       "os_name            278\n",
       "country              0\n",
       "target               0\n",
       "day_of_week          0\n",
       "is_weekend           0\n",
       "dtype: int64"
      ]
     },
     "execution_count": 9,
     "metadata": {},
     "output_type": "execute_result"
    }
   ],
   "source": [
    "df.isna().sum()"
   ]
  },
  {
   "cell_type": "markdown",
   "metadata": {},
   "source": [
    "### browser_version"
   ]
  },
  {
   "cell_type": "code",
   "execution_count": 10,
   "metadata": {},
   "outputs": [],
   "source": [
    "# Избавляемся от пропущенных значений:\n",
    "df['browser_version'] = df['browser_version'].fillna('no_version')"
   ]
  },
  {
   "cell_type": "code",
   "execution_count": 11,
   "metadata": {},
   "outputs": [
    {
     "name": "stdout",
     "output_type": "stream",
     "text": [
      "2009-01-05 00:00:00\n"
     ]
    }
   ],
   "source": [
    "# При изучении этого столбца я выявил несколько аномалий:\n",
    "# 1) В этом столбце вместо версии браузера присутствуют временные метки, например:\n",
    "print(df['browser_version'].loc[463])\n",
    "\n",
    "# Заменим их тоже на `no_version`:\n",
    "df['browser_version'] = df['browser_version'].apply(lambda x: 'no_version' if isinstance(x, dt.datetime) else x)"
   ]
  },
  {
   "cell_type": "code",
   "execution_count": 12,
   "metadata": {},
   "outputs": [
    {
     "name": "stdout",
     "output_type": "stream",
     "text": [
      "68\n"
     ]
    }
   ],
   "source": [
    "# 2) Также есть `AdsBot-Google-Mobile`, если я правильно понял, \n",
    "# то это \"программы, которые автоматически обнаруживают и сканируют сайты, переходя по ссылкам от страницы к странице.\"\n",
    "# (https://support.google.com/webmasters/answer/1061943?hl=ru)\n",
    "# т.к. они не несут никакой смысловой нагрузки, их стоит исключить из нашей выборки:\n",
    "\n",
    "print(len(df[df['browser_version'] == 'AdsBot-Google-Mobile']))\n",
    "df = df[df['browser_version'] != 'AdsBot-Google-Mobile']"
   ]
  },
  {
   "cell_type": "code",
   "execution_count": 13,
   "metadata": {},
   "outputs": [
    {
     "data": {
      "text/html": [
       "<div>\n",
       "<style scoped>\n",
       "    .dataframe tbody tr th:only-of-type {\n",
       "        vertical-align: middle;\n",
       "    }\n",
       "\n",
       "    .dataframe tbody tr th {\n",
       "        vertical-align: top;\n",
       "    }\n",
       "\n",
       "    .dataframe thead th {\n",
       "        text-align: right;\n",
       "    }\n",
       "</style>\n",
       "<table border=\"1\" class=\"dataframe\">\n",
       "  <thead>\n",
       "    <tr style=\"text-align: right;\">\n",
       "      <th></th>\n",
       "      <th>browser_version</th>\n",
       "      <th>browser</th>\n",
       "      <th>os_name</th>\n",
       "      <th>country</th>\n",
       "      <th>target</th>\n",
       "      <th>day_of_week</th>\n",
       "      <th>is_weekend</th>\n",
       "    </tr>\n",
       "  </thead>\n",
       "  <tbody>\n",
       "    <tr>\n",
       "      <th>2585</th>\n",
       "      <td>Mozilla/5.0</td>\n",
       "      <td>Chrome</td>\n",
       "      <td>Linux</td>\n",
       "      <td>PL</td>\n",
       "      <td>0</td>\n",
       "      <td>3</td>\n",
       "      <td>0</td>\n",
       "    </tr>\n",
       "    <tr>\n",
       "      <th>8966</th>\n",
       "      <td>Mozilla/5.0</td>\n",
       "      <td>Chrome</td>\n",
       "      <td>Linux</td>\n",
       "      <td>DE</td>\n",
       "      <td>0</td>\n",
       "      <td>0</td>\n",
       "      <td>0</td>\n",
       "    </tr>\n",
       "    <tr>\n",
       "      <th>12067</th>\n",
       "      <td>Mozilla/5.0</td>\n",
       "      <td>Chrome</td>\n",
       "      <td>Linux</td>\n",
       "      <td>HU</td>\n",
       "      <td>0</td>\n",
       "      <td>6</td>\n",
       "      <td>1</td>\n",
       "    </tr>\n",
       "  </tbody>\n",
       "</table>\n",
       "</div>"
      ],
      "text/plain": [
       "      browser_version browser os_name country  target  day_of_week  is_weekend\n",
       "2585      Mozilla/5.0  Chrome   Linux      PL       0            3           0\n",
       "8966      Mozilla/5.0  Chrome   Linux      DE       0            0           0\n",
       "12067     Mozilla/5.0  Chrome   Linux      HU       0            6           1"
      ]
     },
     "metadata": {},
     "output_type": "display_data"
    }
   ],
   "source": [
    "# 3) Ещё странная версия `Mozilla/5.0` для  браузера Chrome:\n",
    "\n",
    "display(df[df['browser_version'] == 'Mozilla/5.0'])\n",
    "df['browser_version'] = df['browser_version'].apply(lambda x: x if x != 'Mozilla/5.0' else 'no_version')"
   ]
  },
  {
   "cell_type": "code",
   "execution_count": 14,
   "metadata": {},
   "outputs": [
    {
     "data": {
      "text/plain": [
       "browser\n",
       "AndroidBrowser                  538\n",
       "BingBot                          51\n",
       "Chrome                         6981\n",
       "ChromeiOS                        24\n",
       "Firefox                        3907\n",
       "GoogleBot                        83\n",
       "Microsoft Internet Explorer    2821\n",
       "NintendoBrowser                   2\n",
       "Opera                           447\n",
       "Opera Mobile                      2\n",
       "Safari                          388\n",
       "SeaMonkey                         2\n",
       "Name: browser_version, dtype: int64"
      ]
     },
     "execution_count": 14,
     "metadata": {},
     "output_type": "execute_result"
    }
   ],
   "source": [
    "# Теперь ещё немного обработаем версии для основных браузеров,\n",
    "# например, чтобы версии '40.0.2214.111' и '40.0.2214.115' для одного браузера\n",
    "# стали просто '40'\n",
    "df.groupby('browser')['browser_version'].count()"
   ]
  },
  {
   "cell_type": "code",
   "execution_count": 15,
   "metadata": {},
   "outputs": [],
   "source": [
    "def match_versions(version: str, browser: Optional[str]) -> str:\n",
    "    if browser in ['Chrome', 'ChromeiOS', 'Firefox', 'Opera', 'Safari']:\n",
    "        return version.split('.')[0]\n",
    "    return version"
   ]
  },
  {
   "cell_type": "code",
   "execution_count": 16,
   "metadata": {},
   "outputs": [
    {
     "name": "stdout",
     "output_type": "stream",
     "text": [
      "Количество уникальных версий бразузеров ДО: 278\n",
      "Количество уникальных версий бразузеров ПОСЛЕ: 55\n"
     ]
    }
   ],
   "source": [
    "print(f\"Количество уникальных версий браузеров  ДО: {len(df['browser_version'].unique())}\")\n",
    "df['browser_version'] =  df.apply(lambda x: match_versions(x['browser_version'], x['browser']), axis=1)\n",
    "print(f\"Количество уникальных версий браузеров  ПОСЛЕ: {len(df['browser_version'].unique())}\")"
   ]
  },
  {
   "cell_type": "markdown",
   "metadata": {},
   "source": [
    "### browser"
   ]
  },
  {
   "cell_type": "code",
   "execution_count": 17,
   "metadata": {},
   "outputs": [],
   "source": [
    "df['browser'] = df['browser'].fillna('no_browser')"
   ]
  },
  {
   "cell_type": "code",
   "execution_count": 18,
   "metadata": {},
   "outputs": [
    {
     "data": {
      "text/plain": [
       "Chrome                         6981\n",
       "Firefox                        3907\n",
       "Microsoft Internet Explorer    2821\n",
       "AndroidBrowser                  538\n",
       "Opera                           447\n",
       "Safari                          388\n",
       "no_browser                      152\n",
       "GoogleBot                        83\n",
       "BingBot                          51\n",
       "ChromeiOS                        24\n",
       "Opera Mobile                      2\n",
       "NintendoBrowser                   2\n",
       "SeaMonkey                         2\n",
       "Name: browser, dtype: int64"
      ]
     },
     "execution_count": 18,
     "metadata": {},
     "output_type": "execute_result"
    }
   ],
   "source": [
    "df['browser'].value_counts()"
   ]
  },
  {
   "cell_type": "code",
   "execution_count": 19,
   "metadata": {},
   "outputs": [
    {
     "name": "stdout",
     "output_type": "stream",
     "text": [
      "GoogleBot: [0]\n",
      "BingBot: [0]\n"
     ]
    }
   ],
   "source": [
    "# Видно, что у нас есть два бота, которые явно не несут полезной информации и уж точно не будут\n",
    "# нашими конверсионными пользователями:\n",
    "\n",
    "print('GoogleBot:', df[df['browser'] == 'GoogleBot']['target'].unique())  # https://ru.wikipedia.org/wiki/Googlebot\n",
    "print('BingBot:', df[df['browser'] == 'BingBot']['target'].unique())  # https://en.wikipedia.org/wiki/Bingbot\n",
    "\n",
    "# Поэтому есть смысл избавится от них:\n",
    "df = df[~df['browser'].isin(['GoogleBot', 'BingBot'])]"
   ]
  },
  {
   "cell_type": "markdown",
   "metadata": {},
   "source": [
    "### os_name"
   ]
  },
  {
   "cell_type": "code",
   "execution_count": 20,
   "metadata": {},
   "outputs": [],
   "source": [
    "df['os_name'] = df['os_name'].fillna('no_os')"
   ]
  },
  {
   "cell_type": "code",
   "execution_count": 21,
   "metadata": {},
   "outputs": [
    {
     "data": {
      "text/plain": [
       "Windows          13342\n",
       "Linux             1225\n",
       "iOS                252\n",
       "Macintosh          229\n",
       "no_os              144\n",
       "PlayStation         28\n",
       "Windows Phone       24\n",
       "ChromeOS            20\n",
       "Name: os_name, dtype: int64"
      ]
     },
     "execution_count": 21,
     "metadata": {},
     "output_type": "execute_result"
    }
   ],
   "source": [
    "df['os_name'].value_counts()"
   ]
  },
  {
   "cell_type": "markdown",
   "metadata": {},
   "source": [
    "### country"
   ]
  },
  {
   "cell_type": "code",
   "execution_count": 22,
   "metadata": {},
   "outputs": [
    {
     "data": {
      "text/plain": [
       "DE    2722\n",
       "PL    2478\n",
       "TR    2109\n",
       "FR    1862\n",
       "FI     998\n",
       "      ... \n",
       "LV       1\n",
       "NI       1\n",
       "HT       1\n",
       "CO       1\n",
       "LB       1\n",
       "Name: country, Length: 74, dtype: int64"
      ]
     },
     "execution_count": 22,
     "metadata": {},
     "output_type": "execute_result"
    }
   ],
   "source": [
    "# Со странами чуть сложнее, у нас 74 уникальных стран. Проверим их на валидность\n",
    "df['country'].value_counts()"
   ]
  },
  {
   "cell_type": "code",
   "execution_count": 23,
   "metadata": {},
   "outputs": [
    {
     "name": "stdout",
     "output_type": "stream",
     "text": [
      "Нет такой страны, как EU\n",
      "Нет такой страны, как A1\n"
     ]
    }
   ],
   "source": [
    "for country in df['country'].unique():\n",
    "    if country not in countries:\n",
    "        print(f'Нет такой страны, как {country}')"
   ]
  },
  {
   "cell_type": "markdown",
   "metadata": {},
   "source": [
    "Если `EU` - это Европейский союз, то `A1` непонятно, что за страна"
   ]
  },
  {
   "cell_type": "code",
   "execution_count": 24,
   "metadata": {},
   "outputs": [],
   "source": [
    "df['country'] = df['country'].apply(lambda x: 'no_country' if x == 'A1' else x)"
   ]
  },
  {
   "cell_type": "markdown",
   "metadata": {},
   "source": [
    "<!-- Теперь, когда мы почистили наш датасет, займёмся кодированием категориальных признаков.\n",
    "В качестве кадеровщиков, будем использовать Helmet Encoder: -->"
   ]
  },
  {
   "cell_type": "markdown",
   "metadata": {},
   "source": [
    "# Моделирование\n",
    "\n",
    "Теперь перейдём к самому моделированию. Задача:\n",
    "\n",
    "> Необходимо предложить алгоритм увеличения конверсии пользователей в регистрации путем показа пользователю более предпочтительной landing страницы.\n",
    "\n",
    "Как говорилось ранее, для лэндинга na-carnival-info-page у нас вообще нет конверсионных пользователей. Это не значит, что сайт плохой, возможно, у нас просто недостаточно исторических данных, и, если это так, то у нас возникает selection bias или under coverage bias. Но т.к. приходится работать с тем, что имеем, то наша задача заключается в бинарной классификации (осталось то всего два класса) причём с неким дисбалансом классов:"
   ]
  },
  {
   "cell_type": "code",
   "execution_count": 25,
   "metadata": {},
   "outputs": [],
   "source": [
    "df_conv = df[df['target'] != 0]\n",
    "df_conv = df_conv.drop_duplicates()"
   ]
  },
  {
   "cell_type": "code",
   "execution_count": 26,
   "metadata": {},
   "outputs": [
    {
     "data": {
      "image/png": "[encoded data removed]",
      "text/plain": [
       "<Figure size 576x360 with 1 Axes>"
      ]
     },
     "metadata": {
      "needs_background": "light"
     },
     "output_type": "display_data"
    }
   ],
   "source": [
    "plt.figure(figsize=(8, 5))\n",
    "sns.countplot(df_conv[df_conv['target'] != 0].target)\n",
    "plt.xlabel('Landing page', fontsize=12)\n",
    "plt.ylabel('Количество сконвертировшихся пользователей')\n",
    "plt.title('Соотношение \"конверсионных\" landing страниц', fontsize=14)\n",
    "plt.grid(True, axis='y', alpha=0.3, linestyle='-')\n",
    "plt.xticks([0, 1], ['lpceuwottvq4', 'woteutvsupport'])\n",
    "plt.show()"
   ]
  },
  {
   "cell_type": "markdown",
   "metadata": {},
   "source": [
    "Есть ещё один нюанс - нам нужен такой алгоритм, который сможет работать с неизвестными ему значениями. Что я имею в виду: \n",
    "\n",
    "например, в конверсионной выборке у нас есть не все браузеры, которые есть в основных данных:"
   ]
  },
  {
   "cell_type": "code",
   "execution_count": 27,
   "metadata": {},
   "outputs": [
    {
     "name": "stdout",
     "output_type": "stream",
     "text": [
      "Отсутсвующие браузеры в конверсионной выборке: {'ChromeiOS', 'Opera Mobile', 'NintendoBrowser'}\n"
     ]
    }
   ],
   "source": [
    "print('Отсутствующие браузеры в конверсионной выборке:', set(df['browser']) - set(df_conv['browser']))"
   ]
  },
  {
   "cell_type": "markdown",
   "metadata": {},
   "source": [
    "Вариантов решения несколько:\n",
    "\n",
    "1.  Переименовывать неизвестные значения на  `no_brouser`,  `no_country`  и т.д.\n",
    "2.  Использовать такой кодировщик категориальных признаков, результаты которого особо не будут влиять на модель"
   ]
  },
  {
   "cell_type": "code",
   "execution_count": 28,
   "metadata": {},
   "outputs": [
    {
     "name": "stdout",
     "output_type": "stream",
     "text": [
      "False: browser_version\n",
      "True\n",
      "True\n",
      "False: country\n"
     ]
    }
   ],
   "source": [
    "# Смотрим, есть ли в нашей тренировочной выборке no_brouser, no_country и т.д.\n",
    "\n",
    "for column in ['browser_version', 'browser', 'os_name', 'country']:\n",
    "    if len(df_conv[df_conv[column] == f'no_{column.split(\"_\")[0]}']) != 0:\n",
    "        print('True')\n",
    "    else:\n",
    "        print(f'False: {column}')\n",
    "        \n",
    "df_conv.to_csv('train_data.csv', index=False)"
   ]
  },
  {
   "cell_type": "code",
   "execution_count": 29,
   "metadata": {},
   "outputs": [],
   "source": [
    "Y = df_conv['target']\n",
    "X = df_conv.drop('target', axis=1)\n",
    "\n",
    "# Encoding categorical features:\n",
    "enc = HelmertEncoder(cols=['browser_version', 'browser', 'os_name', 'country']).fit(X)\n",
    "X = enc.transform(X)\n",
    "\n",
    "# Split to train and test:\n",
    "X_train, X_test, y_train, y_test = train_test_split(X, Y, test_size=0.2, random_state=42, shuffle=True)"
   ]
  },
  {
   "cell_type": "code",
   "execution_count": 35,
   "metadata": {},
   "outputs": [],
   "source": [
    "# Init a model:\n",
    "model = CatBoostClassifier(iterations=200,\n",
    "                           learning_rate=0.1,\n",
    "                           random_strength=0.1,\n",
    "                           depth=2,\n",
    "                           loss_function='Logloss',\n",
    "                           score_function='Cosine',\n",
    "                           random_seed=42,\n",
    "                           class_weights=Y.value_counts().to_dict(),\n",
    "                           verbose=False)\n",
    "\n",
    "# Train the model:\n",
    "model.fit(X_train, y_train);"
   ]
  },
  {
   "cell_type": "code",
   "execution_count": 36,
   "metadata": {},
   "outputs": [
    {
     "name": "stdout",
     "output_type": "stream",
     "text": [
      "              precision    recall  f1-score   support\n",
      "\n",
      "           1       0.99      1.00      1.00       117\n",
      "           2       1.00      0.97      0.98        29\n",
      "\n",
      "    accuracy                           0.99       146\n",
      "   macro avg       1.00      0.98      0.99       146\n",
      "weighted avg       0.99      0.99      0.99       146\n",
      "\n"
     ]
    }
   ],
   "source": [
    "# Get predictions:\n",
    "y_pred = model.predict(X_test)\n",
    "\n",
    "# Metrics:\n",
    "print(classification_report(y_test, y_pred))"
   ]
  },
  {
   "cell_type": "code",
   "execution_count": 37,
   "metadata": {},
   "outputs": [],
   "source": [
    "def plot_feature_importances(feature_importances: np.ndarray, index: pd.Index, n: int = 10) -> None:\n",
    "    \"\"\"The individual importance values for each of the input features.\"\"\"\n",
    "\n",
    "    plt.figure(figsize=(10, 6))\n",
    "    pd.Series(model.feature_importances_, index=X_train.columns) \\\n",
    "       .nlargest(n) \\\n",
    "       .plot(kind='barh')\n",
    "    plt.grid(True, axis='x', alpha=0.3, linestyle='-')\n",
    "    plt.title('Важность признаков.', fontsize=14)\n",
    "    plt.show()"
   ]
  },
  {
   "cell_type": "code",
   "execution_count": 38,
   "metadata": {},
   "outputs": [
    {
     "data": {
      "image/png": "[encoded data removed]",
      "text/plain": [
       "<Figure size 720x432 with 1 Axes>"
      ]
     },
     "metadata": {
      "needs_background": "light"
     },
     "output_type": "display_data"
    }
   ],
   "source": [
    "plot_feature_importances(model.feature_importances_, X_train.columns)"
   ]
  },
  {
   "cell_type": "code",
   "execution_count": 39,
   "metadata": {},
   "outputs": [],
   "source": [
    "with open('model.pickle', 'wb') as handle:\n",
    "    pickle.dump(model, handle)\n",
    "    \n",
    "with open('encoder.pickle', 'wb') as handle:\n",
    "    pickle.dump(enc, handle)    "
   ]
  },
  {
   "cell_type": "markdown",
   "metadata": {},
   "source": [
    "На удивление у нас получилась слишком точная модель, возможно в данных есть какие-то лики, либо я где-то ошибся (хотя я потратил несколько часов, чтобы всё проверить и так и не смог найти ошибку).\n",
    "\n",
    "Из графика выше, видно, что страна является наиболее важным признаком для модели, чем, например, версия браузера или сам браузер - ну это логично.\n",
    "\n",
    "Вообще, после всей очистки и удаления дубликатов, у нас получилось небольшая выборка(726 записей), которая не может отобразить распределение данных в целом.\n",
    "\n",
    "Модель, конечно, можно попробовать использовать на проде, но вряд ли она будет удовлетворять бизнес метрикам. А для того, чтобы удовлетворяла - нужно собрать больше исторических данных.\n",
    "\n",
    "Остался последний шаг - сам алгоритм:"
   ]
  },
  {
   "cell_type": "code",
   "execution_count": 40,
   "metadata": {},
   "outputs": [],
   "source": [
    "class PredictLanding:\n",
    "    def __init__(self, path_to_model: str, path_to_enc: str):\n",
    "        self.model = self.read_pickle(path_to_model)\n",
    "        self.enc = self.read_pickle(path_to_enc)\n",
    "        self.mapper = {1: 'lpceuwottvq4', 2: 'woteutvsupport'}\n",
    "        \n",
    "    @staticmethod\n",
    "    def read_pickle(path: str):\n",
    "        with open(path, 'rb') as handle:\n",
    "            smt = pickle.load(handle)\n",
    "        return smt\n",
    "    \n",
    "    def predict(self, X: pd.DataFrame) -> List[str]:\n",
    "        X = self.enc.transform(X)\n",
    "        pred = self.model.predict(X)\n",
    "        \n",
    "        decode = np.vectorize(lambda x: self.mapper[x])\n",
    "        return decode(pred)"
   ]
  },
  {
   "cell_type": "code",
   "execution_count": 41,
   "metadata": {},
   "outputs": [
    {
     "data": {
      "image/png": "[encoded data removed]",
      "text/plain": [
       "<Figure size 432x288 with 1 Axes>"
      ]
     },
     "metadata": {
      "needs_background": "light"
     },
     "output_type": "display_data"
    }
   ],
   "source": [
    "# Usage example:\n",
    "\n",
    "X_ = df.drop('target', axis=1)\n",
    "\n",
    "PL = PredictLanding('model.pickle', 'encoder.pickle')\n",
    "pred_lanings = PL.predict(X_.copy())\n",
    "\n",
    "sns.countplot(pred_lanings);"
   ]
  },
  {
   "cell_type": "code",
   "execution_count": null,
   "metadata": {},
   "outputs": [],
   "source": []
  }
 ],
 "metadata": {
  "kernelspec": {
   "display_name": "Python 3",
   "language": "python",
   "name": "python3"
  },
  "language_info": {
   "codemirror_mode": {
    "name": "ipython",
    "version": 3
   },
   "file_extension": ".py",
   "mimetype": "text/x-python",
   "name": "python",
   "nbconvert_exporter": "python",
   "pygments_lexer": "ipython3",
   "version": "3.6.9"
  }
 },
 "nbformat": 4,
 "nbformat_minor": 4
}
