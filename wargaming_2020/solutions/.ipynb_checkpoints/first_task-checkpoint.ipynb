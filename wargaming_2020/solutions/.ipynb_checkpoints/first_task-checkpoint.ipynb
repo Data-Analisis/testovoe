{
 "cells": [
  {
   "cell_type": "markdown",
   "metadata": {},
   "source": [
    "Для решения это задачи будем использовать семейство кусочно-постоянных функций:\n",
    "\n",
    "$PP = \\left \\{ 1250, ..., 30000 \\right \\}$\n",
    "\n",
    "$KRW = \\left \\{ 7485, ..., 132745 \\right \\}$\n",
    "\n",
    "$ER = \\frac{PP\\left [ 2 \\right ]}{KRW\\left [ 2 \\right ]} + \\sum_{i=2}^5 \\left (  \\frac{PP\\left [ i+1 \\right ]}{KRW\\left [ i+1 \\right ]} - \\frac{PP\\left [ i \\right ]}{KRW\\left [ i \\right ]}\\right )*int\\left ( PP\\left [ i \\right ]<AMOUNT \\right )$"
   ]
  },
  {
   "cell_type": "markdown",
   "metadata": {},
   "source": [
    "где:\n",
    "\n",
    "$int$ - индикаторная функия\n",
    "\n",
    "$AMOUNT$ - корейские воны"
   ]
  }
 ],
 "metadata": {
  "kernelspec": {
   "display_name": "Python 3",
   "language": "python",
   "name": "python3"
  },
  "language_info": {
   "codemirror_mode": {
    "name": "ipython",
    "version": 3
   },
   "file_extension": ".py",
   "mimetype": "text/x-python",
   "name": "python",
   "nbconvert_exporter": "python",
   "pygments_lexer": "ipython3",
   "version": "3.6.9"
  }
 },
 "nbformat": 4,
 "nbformat_minor": 4
}
