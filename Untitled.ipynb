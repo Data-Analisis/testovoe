{
 "cells": [
  {
   "cell_type": "code",
   "execution_count": 132,
   "metadata": {},
   "outputs": [],
   "source": [
    "import datetime as dt\n",
    "from typing import Dict\n",
    "import numpy as np\n",
    "import pandas as pd\n",
    "\n",
    "from pyod.models.knn import KNN\n",
    "\n",
    "import matplotlib.pyplot as plt\n",
    "import seaborn as sns\n",
    "plt.style.use('seaborn-whitegrid')\n",
    "sns.set_style(\"white\")\n",
    "%matplotlib inline\n",
    "\n",
    "pd.set_option('display.max_columns', None)"
   ]
  },
  {
   "cell_type": "code",
   "execution_count": 3,
   "metadata": {},
   "outputs": [
    {
     "data": {
      "text/html": [
       "<div>\n",
       "<style scoped>\n",
       "    .dataframe tbody tr th:only-of-type {\n",
       "        vertical-align: middle;\n",
       "    }\n",
       "\n",
       "    .dataframe tbody tr th {\n",
       "        vertical-align: top;\n",
       "    }\n",
       "\n",
       "    .dataframe thead th {\n",
       "        text-align: right;\n",
       "    }\n",
       "</style>\n",
       "<table border=\"1\" class=\"dataframe\">\n",
       "  <thead>\n",
       "    <tr style=\"text-align: right;\">\n",
       "      <th></th>\n",
       "      <th>application_dm_id</th>\n",
       "      <th>install_dttm</th>\n",
       "      <th>country_code</th>\n",
       "      <th>media_source</th>\n",
       "      <th>device_type</th>\n",
       "      <th>is_trial</th>\n",
       "      <th>app_version</th>\n",
       "      <th>campaign_id</th>\n",
       "      <th>os_name</th>\n",
       "      <th>city</th>\n",
       "      <th>adset_id</th>\n",
       "      <th>ad_id</th>\n",
       "      <th>publisher_site_id</th>\n",
       "      <th>device_locale</th>\n",
       "      <th>impressions0</th>\n",
       "      <th>impressions1</th>\n",
       "      <th>impressions2</th>\n",
       "      <th>impressions3</th>\n",
       "      <th>revenue0</th>\n",
       "      <th>revenue1</th>\n",
       "      <th>revenue2</th>\n",
       "      <th>revenue3</th>\n",
       "      <th>target</th>\n",
       "    </tr>\n",
       "  </thead>\n",
       "  <tbody>\n",
       "    <tr>\n",
       "      <th>109600</th>\n",
       "      <td>18</td>\n",
       "      <td>2020-02-10 00:43:11</td>\n",
       "      <td>95</td>\n",
       "      <td>4</td>\n",
       "      <td>1</td>\n",
       "      <td>0</td>\n",
       "      <td>4</td>\n",
       "      <td>4</td>\n",
       "      <td>1</td>\n",
       "      <td>5940</td>\n",
       "      <td>1</td>\n",
       "      <td>2</td>\n",
       "      <td>14</td>\n",
       "      <td>19</td>\n",
       "      <td>11</td>\n",
       "      <td>0</td>\n",
       "      <td>0</td>\n",
       "      <td>0</td>\n",
       "      <td>0.009287</td>\n",
       "      <td>0.0</td>\n",
       "      <td>0.0</td>\n",
       "      <td>0.0</td>\n",
       "      <td>0.045126</td>\n",
       "    </tr>\n",
       "    <tr>\n",
       "      <th>13901</th>\n",
       "      <td>5234</td>\n",
       "      <td>2020-03-29 07:46:24</td>\n",
       "      <td>71</td>\n",
       "      <td>8</td>\n",
       "      <td>1</td>\n",
       "      <td>0</td>\n",
       "      <td>66</td>\n",
       "      <td>463</td>\n",
       "      <td>1</td>\n",
       "      <td>5324</td>\n",
       "      <td>1</td>\n",
       "      <td>385</td>\n",
       "      <td>2622</td>\n",
       "      <td>9</td>\n",
       "      <td>0</td>\n",
       "      <td>0</td>\n",
       "      <td>0</td>\n",
       "      <td>0</td>\n",
       "      <td>0.000000</td>\n",
       "      <td>0.0</td>\n",
       "      <td>0.0</td>\n",
       "      <td>0.0</td>\n",
       "      <td>0.000000</td>\n",
       "    </tr>\n",
       "    <tr>\n",
       "      <th>286742</th>\n",
       "      <td>5234</td>\n",
       "      <td>2020-02-29 17:19:00</td>\n",
       "      <td>2</td>\n",
       "      <td>8</td>\n",
       "      <td>1</td>\n",
       "      <td>0</td>\n",
       "      <td>3</td>\n",
       "      <td>465</td>\n",
       "      <td>1</td>\n",
       "      <td>13169</td>\n",
       "      <td>1</td>\n",
       "      <td>362</td>\n",
       "      <td>33</td>\n",
       "      <td>2</td>\n",
       "      <td>6</td>\n",
       "      <td>0</td>\n",
       "      <td>0</td>\n",
       "      <td>0</td>\n",
       "      <td>0.446278</td>\n",
       "      <td>0.0</td>\n",
       "      <td>0.0</td>\n",
       "      <td>0.0</td>\n",
       "      <td>1.270157</td>\n",
       "    </tr>\n",
       "    <tr>\n",
       "      <th>122766</th>\n",
       "      <td>18</td>\n",
       "      <td>2020-04-08 12:51:56</td>\n",
       "      <td>41</td>\n",
       "      <td>1</td>\n",
       "      <td>1</td>\n",
       "      <td>0</td>\n",
       "      <td>22</td>\n",
       "      <td>1</td>\n",
       "      <td>1</td>\n",
       "      <td>112514</td>\n",
       "      <td>1</td>\n",
       "      <td>1</td>\n",
       "      <td>1</td>\n",
       "      <td>34</td>\n",
       "      <td>8</td>\n",
       "      <td>0</td>\n",
       "      <td>0</td>\n",
       "      <td>0</td>\n",
       "      <td>0.005585</td>\n",
       "      <td>0.0</td>\n",
       "      <td>0.0</td>\n",
       "      <td>0.0</td>\n",
       "      <td>0.005585</td>\n",
       "    </tr>\n",
       "    <tr>\n",
       "      <th>438188</th>\n",
       "      <td>29</td>\n",
       "      <td>2020-03-04 21:29:00</td>\n",
       "      <td>52</td>\n",
       "      <td>5</td>\n",
       "      <td>1</td>\n",
       "      <td>0</td>\n",
       "      <td>57</td>\n",
       "      <td>125</td>\n",
       "      <td>1</td>\n",
       "      <td>135818</td>\n",
       "      <td>1</td>\n",
       "      <td>1</td>\n",
       "      <td>1</td>\n",
       "      <td>56</td>\n",
       "      <td>0</td>\n",
       "      <td>0</td>\n",
       "      <td>0</td>\n",
       "      <td>0</td>\n",
       "      <td>0.000000</td>\n",
       "      <td>0.0</td>\n",
       "      <td>0.0</td>\n",
       "      <td>0.0</td>\n",
       "      <td>0.000000</td>\n",
       "    </tr>\n",
       "  </tbody>\n",
       "</table>\n",
       "</div>"
      ],
      "text/plain": [
       "        application_dm_id         install_dttm  country_code  media_source  \\\n",
       "109600                 18  2020-02-10 00:43:11            95             4   \n",
       "13901                5234  2020-03-29 07:46:24            71             8   \n",
       "286742               5234  2020-02-29 17:19:00             2             8   \n",
       "122766                 18  2020-04-08 12:51:56            41             1   \n",
       "438188                 29  2020-03-04 21:29:00            52             5   \n",
       "\n",
       "        device_type  is_trial  app_version  campaign_id  os_name    city  \\\n",
       "109600            1         0            4            4        1    5940   \n",
       "13901             1         0           66          463        1    5324   \n",
       "286742            1         0            3          465        1   13169   \n",
       "122766            1         0           22            1        1  112514   \n",
       "438188            1         0           57          125        1  135818   \n",
       "\n",
       "        adset_id  ad_id  publisher_site_id  device_locale  impressions0  \\\n",
       "109600         1      2                 14             19            11   \n",
       "13901          1    385               2622              9             0   \n",
       "286742         1    362                 33              2             6   \n",
       "122766         1      1                  1             34             8   \n",
       "438188         1      1                  1             56             0   \n",
       "\n",
       "        impressions1  impressions2  impressions3  revenue0  revenue1  \\\n",
       "109600             0             0             0  0.009287       0.0   \n",
       "13901              0             0             0  0.000000       0.0   \n",
       "286742             0             0             0  0.446278       0.0   \n",
       "122766             0             0             0  0.005585       0.0   \n",
       "438188             0             0             0  0.000000       0.0   \n",
       "\n",
       "        revenue2  revenue3    target  \n",
       "109600       0.0       0.0  0.045126  \n",
       "13901        0.0       0.0  0.000000  \n",
       "286742       0.0       0.0  1.270157  \n",
       "122766       0.0       0.0  0.005585  \n",
       "438188       0.0       0.0  0.000000  "
      ]
     },
     "metadata": {},
     "output_type": "display_data"
    },
    {
     "data": {
      "text/plain": [
       "(500000, 23)"
      ]
     },
     "execution_count": 3,
     "metadata": {},
     "output_type": "execute_result"
    }
   ],
   "source": [
    "df = pd.read_csv('test_ltv_ads.csv')\n",
    "display(df.sample(5))\n",
    "df.shape"
   ]
  },
  {
   "cell_type": "markdown",
   "metadata": {},
   "source": [
    "## Explore dataset"
   ]
  },
  {
   "cell_type": "code",
   "execution_count": 13,
   "metadata": {},
   "outputs": [
    {
     "data": {
      "text/plain": [
       "application_dm_id    0\n",
       "install_dttm         0\n",
       "country_code         0\n",
       "media_source         0\n",
       "device_type          0\n",
       "is_trial             0\n",
       "app_version          0\n",
       "campaign_id          0\n",
       "os_name              0\n",
       "city                 0\n",
       "adset_id             0\n",
       "ad_id                0\n",
       "publisher_site_id    0\n",
       "device_locale        0\n",
       "impressions0         0\n",
       "impressions1         0\n",
       "impressions2         0\n",
       "impressions3         0\n",
       "revenue0             0\n",
       "revenue1             0\n",
       "revenue2             0\n",
       "revenue3             0\n",
       "target               0\n",
       "dtype: int64"
      ]
     },
     "execution_count": 13,
     "metadata": {},
     "output_type": "execute_result"
    }
   ],
   "source": [
    "# Check Nan objects:\n",
    "df.isna().sum()"
   ]
  },
  {
   "cell_type": "code",
   "execution_count": 7,
   "metadata": {},
   "outputs": [
    {
     "data": {
      "text/plain": [
       "0"
      ]
     },
     "execution_count": 7,
     "metadata": {},
     "output_type": "execute_result"
    }
   ],
   "source": [
    "# Check duplicated:\n",
    "df.duplicated().sum()"
   ]
  },
  {
   "cell_type": "code",
   "execution_count": 24,
   "metadata": {},
   "outputs": [
    {
     "data": {
      "text/html": [
       "<div>\n",
       "<style scoped>\n",
       "    .dataframe tbody tr th:only-of-type {\n",
       "        vertical-align: middle;\n",
       "    }\n",
       "\n",
       "    .dataframe tbody tr th {\n",
       "        vertical-align: top;\n",
       "    }\n",
       "\n",
       "    .dataframe thead th {\n",
       "        text-align: right;\n",
       "    }\n",
       "</style>\n",
       "<table border=\"1\" class=\"dataframe\">\n",
       "  <thead>\n",
       "    <tr style=\"text-align: right;\">\n",
       "      <th></th>\n",
       "      <th>revenue0</th>\n",
       "      <th>revenue1</th>\n",
       "      <th>revenue2</th>\n",
       "      <th>revenue3</th>\n",
       "      <th>target</th>\n",
       "    </tr>\n",
       "  </thead>\n",
       "  <tbody>\n",
       "    <tr>\n",
       "      <th>count</th>\n",
       "      <td>500000.000000</td>\n",
       "      <td>500000.000000</td>\n",
       "      <td>500000.000000</td>\n",
       "      <td>500000.000000</td>\n",
       "      <td>500000.000000</td>\n",
       "    </tr>\n",
       "    <tr>\n",
       "      <th>mean</th>\n",
       "      <td>0.106688</td>\n",
       "      <td>0.034041</td>\n",
       "      <td>0.014130</td>\n",
       "      <td>0.008515</td>\n",
       "      <td>0.201881</td>\n",
       "    </tr>\n",
       "    <tr>\n",
       "      <th>std</th>\n",
       "      <td>0.531220</td>\n",
       "      <td>0.330208</td>\n",
       "      <td>0.189734</td>\n",
       "      <td>0.145485</td>\n",
       "      <td>1.212041</td>\n",
       "    </tr>\n",
       "    <tr>\n",
       "      <th>min</th>\n",
       "      <td>0.000000</td>\n",
       "      <td>0.000000</td>\n",
       "      <td>0.000000</td>\n",
       "      <td>0.000000</td>\n",
       "      <td>0.000000</td>\n",
       "    </tr>\n",
       "    <tr>\n",
       "      <th>25%</th>\n",
       "      <td>0.000000</td>\n",
       "      <td>0.000000</td>\n",
       "      <td>0.000000</td>\n",
       "      <td>0.000000</td>\n",
       "      <td>0.000000</td>\n",
       "    </tr>\n",
       "    <tr>\n",
       "      <th>50%</th>\n",
       "      <td>0.000000</td>\n",
       "      <td>0.000000</td>\n",
       "      <td>0.000000</td>\n",
       "      <td>0.000000</td>\n",
       "      <td>0.000000</td>\n",
       "    </tr>\n",
       "    <tr>\n",
       "      <th>75%</th>\n",
       "      <td>0.032137</td>\n",
       "      <td>0.000000</td>\n",
       "      <td>0.000000</td>\n",
       "      <td>0.000000</td>\n",
       "      <td>0.057732</td>\n",
       "    </tr>\n",
       "    <tr>\n",
       "      <th>max</th>\n",
       "      <td>48.102741</td>\n",
       "      <td>54.525685</td>\n",
       "      <td>32.721868</td>\n",
       "      <td>35.611892</td>\n",
       "      <td>192.515075</td>\n",
       "    </tr>\n",
       "  </tbody>\n",
       "</table>\n",
       "</div>"
      ],
      "text/plain": [
       "            revenue0       revenue1       revenue2       revenue3  \\\n",
       "count  500000.000000  500000.000000  500000.000000  500000.000000   \n",
       "mean        0.106688       0.034041       0.014130       0.008515   \n",
       "std         0.531220       0.330208       0.189734       0.145485   \n",
       "min         0.000000       0.000000       0.000000       0.000000   \n",
       "25%         0.000000       0.000000       0.000000       0.000000   \n",
       "50%         0.000000       0.000000       0.000000       0.000000   \n",
       "75%         0.032137       0.000000       0.000000       0.000000   \n",
       "max        48.102741      54.525685      32.721868      35.611892   \n",
       "\n",
       "              target  \n",
       "count  500000.000000  \n",
       "mean        0.201881  \n",
       "std         1.212041  \n",
       "min         0.000000  \n",
       "25%         0.000000  \n",
       "50%         0.000000  \n",
       "75%         0.057732  \n",
       "max       192.515075  "
      ]
     },
     "execution_count": 24,
     "metadata": {},
     "output_type": "execute_result"
    }
   ],
   "source": [
    "# Check statistics:\n",
    "df[['revenue0', 'revenue1', 'revenue2', 'revenue3', 'target']].describe()"
   ]
  },
  {
   "cell_type": "markdown",
   "metadata": {},
   "source": [
    "> Для оценки данных будем использовать медиану, т.к. она является робастной характеристикой, далее по тексту, если я буду писать \"среднее\", то это будет обозначать именно медиану.\n",
    "\n",
    "Итак, мы можем заметить, что среднее общей выручки равно 0 и это вполне нормально, т.к. обычно доля конверсионных пользователей небольшая. Однако меня смущает, что максимальное количество прибыли 192 - слишком большой знаечение, похожее на выброс. Возможно, это и не ошибка, а просто очень щедрый пользователь :)\n",
    "\n",
    "Если искать выбросы стандартным методом, основанным на межквнтильном диапазоне, то их получается слишком много:"
   ]
  },
  {
   "cell_type": "code",
   "execution_count": 136,
   "metadata": {},
   "outputs": [],
   "source": [
    "def find_outlier(target: pd.Series, coef: int = 3) -> float:\n",
    "    \"\"\"Outlier detection with interquartile distance.\"\"\"\n",
    "\n",
    "    target = target.dropna()\n",
    "    \n",
    "    # Calculate statistics:\n",
    "    median = target.median()\n",
    "    Q1 = target.quantile(0.25)\n",
    "    Q3 = target.quantile(0.75)\n",
    "    \n",
    "    # External_borders:\n",
    "    interquartile_range = Q3 - Q1\n",
    "    limit = Q3 + interquartile_range * coef\n",
    "    \n",
    "    print(f'Количество выбросов на всём датасете: {(target > limit).sum()}')\n",
    "    print(f'Процент выбросов: {round((target > limit).sum()/len(target)*100, 2)}%')\n",
    "    return limit"
   ]
  },
  {
   "cell_type": "code",
   "execution_count": 137,
   "metadata": {},
   "outputs": [
    {
     "name": "stdout",
     "output_type": "stream",
     "text": [
      "Количество выбросов на всём датасете: 65615\n",
      "Процент выбросов: 13.12%\n"
     ]
    }
   ],
   "source": [
    "find_outlier(df['target']);"
   ]
  },
  {
   "cell_type": "markdown",
   "metadata": {},
   "source": [
    "Скорее всего, это связано со спецификой данных, поэтому посмотрим на 99 квантиль:"
   ]
  },
  {
   "cell_type": "code",
   "execution_count": 22,
   "metadata": {},
   "outputs": [
    {
     "data": {
      "text/plain": [
       "3.4763382495286472"
      ]
     },
     "execution_count": 22,
     "metadata": {},
     "output_type": "execute_result"
    }
   ],
   "source": [
    "df['target'].quantile(q=0.99)"
   ]
  },
  {
   "cell_type": "markdown",
   "metadata": {},
   "source": [
    "Я не знаю, в какой это валюте, но выглядит вполне адекватно. Для успокоения, посмотрим ещё на самую большую выручку:"
   ]
  },
  {
   "cell_type": "code",
   "execution_count": 25,
   "metadata": {},
   "outputs": [
    {
     "data": {
      "text/html": [
       "<div>\n",
       "<style scoped>\n",
       "    .dataframe tbody tr th:only-of-type {\n",
       "        vertical-align: middle;\n",
       "    }\n",
       "\n",
       "    .dataframe tbody tr th {\n",
       "        vertical-align: top;\n",
       "    }\n",
       "\n",
       "    .dataframe thead th {\n",
       "        text-align: right;\n",
       "    }\n",
       "</style>\n",
       "<table border=\"1\" class=\"dataframe\">\n",
       "  <thead>\n",
       "    <tr style=\"text-align: right;\">\n",
       "      <th></th>\n",
       "      <th>application_dm_id</th>\n",
       "      <th>install_dttm</th>\n",
       "      <th>country_code</th>\n",
       "      <th>media_source</th>\n",
       "      <th>device_type</th>\n",
       "      <th>is_trial</th>\n",
       "      <th>app_version</th>\n",
       "      <th>campaign_id</th>\n",
       "      <th>os_name</th>\n",
       "      <th>city</th>\n",
       "      <th>adset_id</th>\n",
       "      <th>ad_id</th>\n",
       "      <th>publisher_site_id</th>\n",
       "      <th>device_locale</th>\n",
       "      <th>impressions0</th>\n",
       "      <th>impressions1</th>\n",
       "      <th>impressions2</th>\n",
       "      <th>impressions3</th>\n",
       "      <th>revenue0</th>\n",
       "      <th>revenue1</th>\n",
       "      <th>revenue2</th>\n",
       "      <th>revenue3</th>\n",
       "      <th>target</th>\n",
       "    </tr>\n",
       "  </thead>\n",
       "  <tbody>\n",
       "    <tr>\n",
       "      <th>206539</th>\n",
       "      <td>4907</td>\n",
       "      <td>2020-02-18 06:40:41</td>\n",
       "      <td>2</td>\n",
       "      <td>10</td>\n",
       "      <td>1</td>\n",
       "      <td>0</td>\n",
       "      <td>3</td>\n",
       "      <td>1074</td>\n",
       "      <td>2</td>\n",
       "      <td>331</td>\n",
       "      <td>1753</td>\n",
       "      <td>352</td>\n",
       "      <td>1</td>\n",
       "      <td>2</td>\n",
       "      <td>22</td>\n",
       "      <td>66</td>\n",
       "      <td>27</td>\n",
       "      <td>11</td>\n",
       "      <td>6.888369</td>\n",
       "      <td>20.652343</td>\n",
       "      <td>8.181409</td>\n",
       "      <td>3.127619</td>\n",
       "      <td>125.808197</td>\n",
       "    </tr>\n",
       "    <tr>\n",
       "      <th>214985</th>\n",
       "      <td>70</td>\n",
       "      <td>2020-02-19 07:27:52</td>\n",
       "      <td>139</td>\n",
       "      <td>1</td>\n",
       "      <td>1</td>\n",
       "      <td>0</td>\n",
       "      <td>188</td>\n",
       "      <td>1</td>\n",
       "      <td>2</td>\n",
       "      <td>14819</td>\n",
       "      <td>1</td>\n",
       "      <td>1</td>\n",
       "      <td>1</td>\n",
       "      <td>1044</td>\n",
       "      <td>399</td>\n",
       "      <td>289</td>\n",
       "      <td>166</td>\n",
       "      <td>123</td>\n",
       "      <td>42.328566</td>\n",
       "      <td>25.636690</td>\n",
       "      <td>17.225631</td>\n",
       "      <td>12.589174</td>\n",
       "      <td>107.470255</td>\n",
       "    </tr>\n",
       "    <tr>\n",
       "      <th>218479</th>\n",
       "      <td>8595</td>\n",
       "      <td>2020-04-08 10:02:03</td>\n",
       "      <td>87</td>\n",
       "      <td>6</td>\n",
       "      <td>1</td>\n",
       "      <td>0</td>\n",
       "      <td>47</td>\n",
       "      <td>1200</td>\n",
       "      <td>2</td>\n",
       "      <td>5092</td>\n",
       "      <td>1</td>\n",
       "      <td>465</td>\n",
       "      <td>7605</td>\n",
       "      <td>55</td>\n",
       "      <td>115</td>\n",
       "      <td>98</td>\n",
       "      <td>61</td>\n",
       "      <td>58</td>\n",
       "      <td>23.555099</td>\n",
       "      <td>14.334841</td>\n",
       "      <td>7.803234</td>\n",
       "      <td>11.142024</td>\n",
       "      <td>101.767651</td>\n",
       "    </tr>\n",
       "    <tr>\n",
       "      <th>228474</th>\n",
       "      <td>16792</td>\n",
       "      <td>2020-04-10 16:52:59</td>\n",
       "      <td>100</td>\n",
       "      <td>10</td>\n",
       "      <td>1</td>\n",
       "      <td>0</td>\n",
       "      <td>209</td>\n",
       "      <td>1254</td>\n",
       "      <td>2</td>\n",
       "      <td>18563</td>\n",
       "      <td>2034</td>\n",
       "      <td>533</td>\n",
       "      <td>1</td>\n",
       "      <td>85</td>\n",
       "      <td>246</td>\n",
       "      <td>144</td>\n",
       "      <td>214</td>\n",
       "      <td>50</td>\n",
       "      <td>24.062045</td>\n",
       "      <td>9.929247</td>\n",
       "      <td>17.122933</td>\n",
       "      <td>7.687355</td>\n",
       "      <td>192.515075</td>\n",
       "    </tr>\n",
       "    <tr>\n",
       "      <th>326837</th>\n",
       "      <td>70</td>\n",
       "      <td>2020-04-16 09:38:51</td>\n",
       "      <td>139</td>\n",
       "      <td>27</td>\n",
       "      <td>1</td>\n",
       "      <td>0</td>\n",
       "      <td>200</td>\n",
       "      <td>1</td>\n",
       "      <td>2</td>\n",
       "      <td>45276</td>\n",
       "      <td>1</td>\n",
       "      <td>1</td>\n",
       "      <td>1</td>\n",
       "      <td>150</td>\n",
       "      <td>152</td>\n",
       "      <td>129</td>\n",
       "      <td>30</td>\n",
       "      <td>112</td>\n",
       "      <td>27.414717</td>\n",
       "      <td>21.231541</td>\n",
       "      <td>5.526812</td>\n",
       "      <td>21.601291</td>\n",
       "      <td>108.696241</td>\n",
       "    </tr>\n",
       "    <tr>\n",
       "      <th>372781</th>\n",
       "      <td>8595</td>\n",
       "      <td>2020-03-15 14:06:59</td>\n",
       "      <td>61</td>\n",
       "      <td>8</td>\n",
       "      <td>1</td>\n",
       "      <td>0</td>\n",
       "      <td>389</td>\n",
       "      <td>1188</td>\n",
       "      <td>2</td>\n",
       "      <td>58769</td>\n",
       "      <td>1</td>\n",
       "      <td>460</td>\n",
       "      <td>12273</td>\n",
       "      <td>58</td>\n",
       "      <td>414</td>\n",
       "      <td>42</td>\n",
       "      <td>49</td>\n",
       "      <td>41</td>\n",
       "      <td>4.456880</td>\n",
       "      <td>0.917066</td>\n",
       "      <td>0.983319</td>\n",
       "      <td>1.018902</td>\n",
       "      <td>134.516467</td>\n",
       "    </tr>\n",
       "    <tr>\n",
       "      <th>399092</th>\n",
       "      <td>8595</td>\n",
       "      <td>2020-02-12 16:26:13</td>\n",
       "      <td>139</td>\n",
       "      <td>1</td>\n",
       "      <td>1</td>\n",
       "      <td>0</td>\n",
       "      <td>387</td>\n",
       "      <td>1</td>\n",
       "      <td>2</td>\n",
       "      <td>44546</td>\n",
       "      <td>1</td>\n",
       "      <td>1</td>\n",
       "      <td>1</td>\n",
       "      <td>1296</td>\n",
       "      <td>209</td>\n",
       "      <td>190</td>\n",
       "      <td>22</td>\n",
       "      <td>21</td>\n",
       "      <td>19.281690</td>\n",
       "      <td>17.502417</td>\n",
       "      <td>2.470584</td>\n",
       "      <td>1.852451</td>\n",
       "      <td>104.630235</td>\n",
       "    </tr>\n",
       "  </tbody>\n",
       "</table>\n",
       "</div>"
      ],
      "text/plain": [
       "        application_dm_id         install_dttm  country_code  media_source  \\\n",
       "206539               4907  2020-02-18 06:40:41             2            10   \n",
       "214985                 70  2020-02-19 07:27:52           139             1   \n",
       "218479               8595  2020-04-08 10:02:03            87             6   \n",
       "228474              16792  2020-04-10 16:52:59           100            10   \n",
       "326837                 70  2020-04-16 09:38:51           139            27   \n",
       "372781               8595  2020-03-15 14:06:59            61             8   \n",
       "399092               8595  2020-02-12 16:26:13           139             1   \n",
       "\n",
       "        device_type  is_trial  app_version  campaign_id  os_name   city  \\\n",
       "206539            1         0            3         1074        2    331   \n",
       "214985            1         0          188            1        2  14819   \n",
       "218479            1         0           47         1200        2   5092   \n",
       "228474            1         0          209         1254        2  18563   \n",
       "326837            1         0          200            1        2  45276   \n",
       "372781            1         0          389         1188        2  58769   \n",
       "399092            1         0          387            1        2  44546   \n",
       "\n",
       "        adset_id  ad_id  publisher_site_id  device_locale  impressions0  \\\n",
       "206539      1753    352                  1              2            22   \n",
       "214985         1      1                  1           1044           399   \n",
       "218479         1    465               7605             55           115   \n",
       "228474      2034    533                  1             85           246   \n",
       "326837         1      1                  1            150           152   \n",
       "372781         1    460              12273             58           414   \n",
       "399092         1      1                  1           1296           209   \n",
       "\n",
       "        impressions1  impressions2  impressions3   revenue0   revenue1  \\\n",
       "206539            66            27            11   6.888369  20.652343   \n",
       "214985           289           166           123  42.328566  25.636690   \n",
       "218479            98            61            58  23.555099  14.334841   \n",
       "228474           144           214            50  24.062045   9.929247   \n",
       "326837           129            30           112  27.414717  21.231541   \n",
       "372781            42            49            41   4.456880   0.917066   \n",
       "399092           190            22            21  19.281690  17.502417   \n",
       "\n",
       "         revenue2   revenue3      target  \n",
       "206539   8.181409   3.127619  125.808197  \n",
       "214985  17.225631  12.589174  107.470255  \n",
       "218479   7.803234  11.142024  101.767651  \n",
       "228474  17.122933   7.687355  192.515075  \n",
       "326837   5.526812  21.601291  108.696241  \n",
       "372781   0.983319   1.018902  134.516467  \n",
       "399092   2.470584   1.852451  104.630235  "
      ]
     },
     "execution_count": 25,
     "metadata": {},
     "output_type": "execute_result"
    }
   ],
   "source": [
    "df[df['target'] > 100]"
   ]
  },
  {
   "cell_type": "markdown",
   "metadata": {},
   "source": [
    "В приницпе, это не похоже на выбросы, практически все юзеры начинали приносить деньги с первого дня и продолжали вносить большие суммы на протяжении оставшихся 3 дней. Единственное, меня смущает - юзер под номером `372781`: он выделяется среди остальных, т.к. не был таким активным в первые дни как остальные, однако, возможно, он \"исправился\" позже.\n",
    "Кстати, можно заметить, что у нас три страны под номером `139` - больше всего любят смотреть рекламу? :)\n",
    "\n",
    "Процентное распределние по странам можно увидеть ниже:"
   ]
  },
  {
   "cell_type": "code",
   "execution_count": 30,
   "metadata": {},
   "outputs": [
    {
     "data": {
      "text/plain": [
       "3      12.09%\n",
       "4       9.99%\n",
       "2       9.58%\n",
       "21      5.72%\n",
       "139     4.05%\n",
       "31       3.1%\n",
       "45      2.97%\n",
       "25      2.57%\n",
       "27      2.51%\n",
       "52      2.48%\n",
       "Name: country_code, dtype: object"
      ]
     },
     "execution_count": 30,
     "metadata": {},
     "output_type": "execute_result"
    }
   ],
   "source": [
    "df['country_code'].value_counts(normalize=True).head(10).mul(100).round(2).astype('str') + '%'"
   ]
  },
  {
   "cell_type": "markdown",
   "metadata": {},
   "source": [
    "Кстати, с учётом того, что пользователи из страны под номером `139` занимают в таблицу выше количественное приемущество, на общем рейтинге выручки это не сказывается:"
   ]
  },
  {
   "cell_type": "code",
   "execution_count": 49,
   "metadata": {},
   "outputs": [
    {
     "data": {
      "text/html": [
       "<div>\n",
       "<style scoped>\n",
       "    .dataframe tbody tr th:only-of-type {\n",
       "        vertical-align: middle;\n",
       "    }\n",
       "\n",
       "    .dataframe tbody tr th {\n",
       "        vertical-align: top;\n",
       "    }\n",
       "\n",
       "    .dataframe thead th {\n",
       "        text-align: right;\n",
       "    }\n",
       "</style>\n",
       "<table border=\"1\" class=\"dataframe\">\n",
       "  <thead>\n",
       "    <tr style=\"text-align: right;\">\n",
       "      <th></th>\n",
       "      <th>target</th>\n",
       "    </tr>\n",
       "    <tr>\n",
       "      <th>country_code</th>\n",
       "      <th></th>\n",
       "    </tr>\n",
       "  </thead>\n",
       "  <tbody>\n",
       "    <tr>\n",
       "      <th>100</th>\n",
       "      <td>0.889436</td>\n",
       "    </tr>\n",
       "    <tr>\n",
       "      <th>2</th>\n",
       "      <td>0.756858</td>\n",
       "    </tr>\n",
       "    <tr>\n",
       "      <th>81</th>\n",
       "      <td>0.720079</td>\n",
       "    </tr>\n",
       "    <tr>\n",
       "      <th>75</th>\n",
       "      <td>0.673974</td>\n",
       "    </tr>\n",
       "    <tr>\n",
       "      <th>61</th>\n",
       "      <td>0.651708</td>\n",
       "    </tr>\n",
       "  </tbody>\n",
       "</table>\n",
       "</div>"
      ],
      "text/plain": [
       "                target\n",
       "country_code          \n",
       "100           0.889436\n",
       "2             0.756858\n",
       "81            0.720079\n",
       "75            0.673974\n",
       "61            0.651708"
      ]
     },
     "execution_count": 49,
     "metadata": {},
     "output_type": "execute_result"
    }
   ],
   "source": [
    "df.groupby('country_code').agg({'target': 'mean'}).sort_values(by='target', ascending=False).head()"
   ]
  },
  {
   "cell_type": "markdown",
   "metadata": {},
   "source": [
    "А вот с типом приложения `8595` ситуация немного другая:"
   ]
  },
  {
   "cell_type": "code",
   "execution_count": 73,
   "metadata": {},
   "outputs": [
    {
     "data": {
      "text/html": [
       "<div>\n",
       "<style scoped>\n",
       "    .dataframe tbody tr th:only-of-type {\n",
       "        vertical-align: middle;\n",
       "    }\n",
       "\n",
       "    .dataframe tbody tr th {\n",
       "        vertical-align: top;\n",
       "    }\n",
       "\n",
       "    .dataframe thead th {\n",
       "        text-align: right;\n",
       "    }\n",
       "</style>\n",
       "<table border=\"1\" class=\"dataframe\">\n",
       "  <thead>\n",
       "    <tr style=\"text-align: right;\">\n",
       "      <th></th>\n",
       "      <th>target</th>\n",
       "    </tr>\n",
       "    <tr>\n",
       "      <th>application_dm_id</th>\n",
       "      <th></th>\n",
       "    </tr>\n",
       "  </thead>\n",
       "  <tbody>\n",
       "    <tr>\n",
       "      <th>8595</th>\n",
       "      <td>1.570775</td>\n",
       "    </tr>\n",
       "    <tr>\n",
       "      <th>70</th>\n",
       "      <td>1.390923</td>\n",
       "    </tr>\n",
       "    <tr>\n",
       "      <th>125</th>\n",
       "      <td>1.247088</td>\n",
       "    </tr>\n",
       "    <tr>\n",
       "      <th>16792</th>\n",
       "      <td>1.061418</td>\n",
       "    </tr>\n",
       "    <tr>\n",
       "      <th>4907</th>\n",
       "      <td>0.876255</td>\n",
       "    </tr>\n",
       "  </tbody>\n",
       "</table>\n",
       "</div>"
      ],
      "text/plain": [
       "                     target\n",
       "application_dm_id          \n",
       "8595               1.570775\n",
       "70                 1.390923\n",
       "125                1.247088\n",
       "16792              1.061418\n",
       "4907               0.876255"
      ]
     },
     "metadata": {},
     "output_type": "display_data"
    },
    {
     "name": "stdout",
     "output_type": "stream",
     "text": [
      "Доля приложения `8595` составляет 1.77% из всех 77 приложений.\n"
     ]
    }
   ],
   "source": [
    "display(df.groupby('application_dm_id').agg({'target': 'mean'}).sort_values(by='target', ascending=False).head())\n",
    "print(\n",
    "    f'Доля приложения `8595` составляет {round(len(df[df[\"application_dm_id\"] == 8595])/len(df) * 100, 2)}% '\n",
    "    f'из всех {len(df[\"application_dm_id\"].unique())} приложений.'\n",
    ")"
   ]
  },
  {
   "cell_type": "markdown",
   "metadata": {},
   "source": [
    "Посмотрим ещё немного на наши категориальные переменные:"
   ]
  },
  {
   "cell_type": "code",
   "execution_count": 189,
   "metadata": {},
   "outputs": [
    {
     "data": {
      "text/plain": [
       "1    80.29%\n",
       "2    19.71%\n",
       "Name: os_name, dtype: object"
      ]
     },
     "execution_count": 189,
     "metadata": {},
     "output_type": "execute_result"
    }
   ],
   "source": [
    "df['os_name'].value_counts(normalize=True).head(10).mul(100).round(2).astype('str') + '%'"
   ]
  },
  {
   "cell_type": "markdown",
   "metadata": {},
   "source": [
    "Наверное, 80% это Android :)"
   ]
  },
  {
   "cell_type": "code",
   "execution_count": 191,
   "metadata": {},
   "outputs": [
    {
     "data": {
      "text/plain": [
       "74       18.71%\n",
       "76        9.25%\n",
       "27        8.83%\n",
       "18        7.63%\n",
       "29        6.45%\n",
       "5234      4.53%\n",
       "9541      4.33%\n",
       "30        4.04%\n",
       "71        3.81%\n",
       "14932     3.63%\n",
       "Name: application_dm_id, dtype: object"
      ]
     },
     "execution_count": 191,
     "metadata": {},
     "output_type": "execute_result"
    }
   ],
   "source": [
    "df['application_dm_id'].value_counts(normalize=True).head(10).mul(100).round(2).astype('str') + '%'"
   ]
  },
  {
   "cell_type": "markdown",
   "metadata": {},
   "source": [
    "Приложение под номером 74 преобладает над остальными, может это [Пианино - Симулятор фортепиано, музыка и игры](https://play.google.com/store/apps/details?id=com.gismart.realpianofree)?)"
   ]
  },
  {
   "cell_type": "markdown",
   "metadata": {},
   "source": [
    "## Analyze dataset"
   ]
  },
  {
   "cell_type": "markdown",
   "metadata": {},
   "source": [
    "Для анализа и последующего моделирования сгенерируем несколько новых временных признаков:"
   ]
  },
  {
   "cell_type": "code",
   "execution_count": 50,
   "metadata": {},
   "outputs": [],
   "source": [
    "# Generate different time features:\n",
    "df['install_dttm'] = pd.to_datetime(df['install_dttm'])  # convert str to datetime\n",
    "df['install_week'] = df['install_dttm'].apply(lambda x: x.week)\n",
    "df['install_month'] = df['install_dttm'].apply(lambda x: x.month) \n",
    "df['install_day'] = df['install_dttm'].apply(lambda x: x.day)\n",
    "df['install_dayofweek'] = df['install_dttm'].apply(lambda x: x.dayofweek)\n",
    "df['install_is_weekend'] = df['install_dttm'].apply(lambda x: x.weekday() > 4)\n",
    "\n",
    "# Required variables:\n",
    "months = {\n",
    "    2: 'February',\n",
    "    3: 'March',\n",
    "    4: 'April'\n",
    "}\n",
    "\n",
    "days = {\n",
    "    0: 'Mo',\n",
    "    1: 'Tu',\n",
    "    2: 'We',\n",
    "    3: 'Th',\n",
    "    4: 'Fr',\n",
    "    5: 'Sa',\n",
    "    6: 'Su'\n",
    "}"
   ]
  },
  {
   "cell_type": "markdown",
   "metadata": {},
   "source": [
    "Попробуем сгруппировать пользователям по дням недели и посмотреть, как меняется доход за первые 4 дня использования приложения в зависимости от дня установки:"
   ]
  },
  {
   "cell_type": "code",
   "execution_count": 164,
   "metadata": {},
   "outputs": [],
   "source": [
    "def plot_revenue_from_dayofweek(months: Dict[int, str], days: Dict[int, str]) -> None:\n",
    "\n",
    "    cohorts = df.groupby(['install_month', 'install_dayofweek']) \\\n",
    "                [['revenue0', 'revenue1', 'revenue2', 'revenue3']] \\\n",
    "                .sum().reset_index()\n",
    "    \n",
    "    for month in cohorts['install_month'].unique():\n",
    "        cohorts[cohorts['install_month'] == month] \\\n",
    "                .drop(['install_month', 'install_dayofweek'], axis=1) \\\n",
    "                .reset_index(drop=True).T \\\n",
    "                .rename(columns=days).plot(figsize=(9, 6))\n",
    "        \n",
    "        plt.title(f'Revenue for the first 4 days by day of the week for {months.get(month)}', fontsize=16)\n",
    "        plt.grid(axis='both', alpha=0.5, ls='-.')\n",
    "        plt.legend(fontsize=14)\n",
    "        plt.xticks(range(4), range(4), fontsize=12)\n",
    "        plt.xlabel('Day of using application', fontsize=14)\n",
    "        plt.ylabel('Revenue', fontsize=14)\n",
    "        plt.show()"
   ]
  },
  {
   "cell_type": "code",
   "execution_count": 165,
   "metadata": {},
   "outputs": [
    {
     "data": {
      "image/png": "[encoded data removed]",
      "text/plain": [
       "<Figure size 648x432 with 1 Axes>"
      ]
     },
     "metadata": {
      "needs_background": "light"
     },
     "output_type": "display_data"
    },
    {
     "data": {
      "image/png": "[encoded data removed]",
      "text/plain": [
       "<Figure size 648x432 with 1 Axes>"
      ]
     },
     "metadata": {
      "needs_background": "light"
     },
     "output_type": "display_data"
    },
    {
     "data": {
      "image/png": "[encoded data removed]",
      "text/plain": [
       "<Figure size 648x432 with 1 Axes>"
      ]
     },
     "metadata": {
      "needs_background": "light"
     },
     "output_type": "display_data"
    }
   ],
   "source": [
    "plot_revenue_from_dayofweek(months, days)"
   ]
  },
  {
   "cell_type": "markdown",
   "metadata": {},
   "source": [
    "Если честно, даже немного обидно, т.к. я ожидал увидеть что-то интересное, например, что пользователи, установившие приложение в выходные приносят больше денег. Хотя такой тренд прослеживается немного для первых двух графиках, но не думаю, что это будет статистически значимая разница. Зато очень хорошо видно, что после первого дня использования приложения, пользователи начинают всё меньше и меньше приносить дохода"
   ]
  },
  {
   "cell_type": "markdown",
   "metadata": {},
   "source": [
    "Теперь посмотрим, как суммарный менялся доход по неделям:"
   ]
  },
  {
   "cell_type": "code",
   "execution_count": 188,
   "metadata": {},
   "outputs": [
    {
     "data": {
      "image/png": "[encoded data removed]",
      "text/plain": [
       "<Figure size 720x432 with 1 Axes>"
      ]
     },
     "metadata": {
      "needs_background": "light"
     },
     "output_type": "display_data"
    }
   ],
   "source": [
    "plt.figure(figsize=(10, 6))\n",
    "plt.plot(\n",
    "    df.groupby(f'install_week').agg({'target': 'sum'})['target'],\n",
    "    ':', color='black', linewidth=2\n",
    ")\n",
    "plt.title('Changes in revenue by the week', fontsize=16)\n",
    "plt.ylabel('Total revenue', fontsize=14)\n",
    "plt.xlabel('The week ordinal of the year.', fontsize=14)\n",
    "plt.grid(axis='y', alpha=0.4)"
   ]
  },
  {
   "cell_type": "markdown",
   "metadata": {},
   "source": [
    "Из графика видно, что последний 16 неделя дала хороший суммарный доход. Возможно, это связано с проведением какой-нибудь рекламной компании, благодаря чему больше пользователей установили приложения. Для проверки этой теории наложим два графика вместе: изменение суммарной вырочки по неделям и количество пришедших пользователей:"
   ]
  },
  {
   "cell_type": "code",
   "execution_count": 183,
   "metadata": {},
   "outputs": [],
   "source": [
    "def plot_distribution(df: pd.DataFrame, by: str) -> None:\n",
    "    \"\"\"\n",
    "    The distribution of the number of installations by month\n",
    "    or the week ordinal of the year.\n",
    "    \n",
    "    Parameters\n",
    "    ----------\n",
    "    df : pd.DataFrame\n",
    "        Data for analysis.\n",
    "    by : {'week', 'month'}\n",
    "        Used to determine the groups for the groupby.\n",
    "    \"\"\"\n",
    "\n",
    "    plt.figure(figsize=(12, 9))\n",
    "    plt.plot(\n",
    "        df.groupby(f'install_{by}', as_index=False).agg({'target': 'sum'})['target'],\n",
    "        ':', color='black', alpha=0.8, linewidth=2, label='Total revenues'\n",
    "    )\n",
    "    sns.countplot(df[f'install_{by}'])\n",
    "    if by == 'month':\n",
    "        plt.xticks(range(3), ['February', 'March', 'May'])\n",
    "    plt.xlabel(f'Installation {by}', fontsize=16)\n",
    "    plt.ylabel('Number of installations', fontsize=16)\n",
    "    plt.legend(fontsize=14)\n",
    "    plt.grid(axis='y', alpha=0.4)\n",
    "    plt.title(f'The distribution of the number of installations by {by}', fontsize=18)\n",
    "    plt.show()"
   ]
  },
  {
   "cell_type": "code",
   "execution_count": 185,
   "metadata": {},
   "outputs": [
    {
     "data": {
      "image/png": "[encoded data removed]",
      "text/plain": [
       "<Figure size 864x648 with 1 Axes>"
      ]
     },
     "metadata": {
      "needs_background": "light"
     },
     "output_type": "display_data"
    }
   ],
   "source": [
    "plot_distribution(df, 'week')"
   ]
  },
  {
   "cell_type": "markdown",
   "metadata": {},
   "source": [
    "Видно, что этот пик как раз приходится на увеличение количества установок. При этом стоит отметить, что в `12`, `13` и `14` недели количество установок возрастало, но при этом суммарный доход немного падал.\n",
    "\n",
    "Посмотрим теперь, что будет, если сгруппировать по месяцам:"
   ]
  },
  {
   "cell_type": "code",
   "execution_count": 186,
   "metadata": {},
   "outputs": [
    {
     "data": {
      "image/png": "[encoded data removed]",
      "text/plain": [
       "<Figure size 864x648 with 1 Axes>"
      ]
     },
     "metadata": {
      "needs_background": "light"
     },
     "output_type": "display_data"
    }
   ],
   "source": [
    "plot_distribution(df, 'month')"
   ]
  },
  {
   "cell_type": "markdown",
   "metadata": {},
   "source": [
    "Здесь просто видно, что количество установок с каждым днём растёт, что может считаться хорошим показателем для компании."
   ]
  },
  {
   "cell_type": "markdown",
   "metadata": {},
   "source": [
    "До этого момента для группироки я использовал только время, хотя у нас есть большое признаковое пространоство и можно провести анализ по когортному пространству, однако Влад сказал не упарываться, поэтому перейду к моделированию :)"
   ]
  },
  {
   "cell_type": "markdown",
   "metadata": {},
   "source": [
    "## Modeling"
   ]
  },
  {
   "cell_type": "code",
   "execution_count": null,
   "metadata": {},
   "outputs": [],
   "source": []
  },
  {
   "cell_type": "code",
   "execution_count": null,
   "metadata": {},
   "outputs": [],
   "source": []
  },
  {
   "cell_type": "code",
   "execution_count": null,
   "metadata": {},
   "outputs": [],
   "source": []
  },
  {
   "cell_type": "code",
   "execution_count": null,
   "metadata": {},
   "outputs": [],
   "source": []
  },
  {
   "cell_type": "code",
   "execution_count": null,
   "metadata": {},
   "outputs": [],
   "source": []
  },
  {
   "cell_type": "code",
   "execution_count": null,
   "metadata": {},
   "outputs": [],
   "source": []
  },
  {
   "cell_type": "code",
   "execution_count": 64,
   "metadata": {},
   "outputs": [],
   "source": [
    "# revenue - доход за какой-то день\n",
    "# impressions - количество просмотренной рекламы, после установки приложения"
   ]
  },
  {
   "cell_type": "markdown",
   "metadata": {},
   "source": []
  },
  {
   "cell_type": "code",
   "execution_count": 65,
   "metadata": {},
   "outputs": [],
   "source": [
    "cols = []\n",
    "\n",
    "for col in df.columns:\n",
    "    if 'id' in col:\n",
    "        cols.append(col)"
   ]
  },
  {
   "cell_type": "code",
   "execution_count": 66,
   "metadata": {},
   "outputs": [
    {
     "data": {
      "text/html": [
       "<div>\n",
       "<style scoped>\n",
       "    .dataframe tbody tr th:only-of-type {\n",
       "        vertical-align: middle;\n",
       "    }\n",
       "\n",
       "    .dataframe tbody tr th {\n",
       "        vertical-align: top;\n",
       "    }\n",
       "\n",
       "    .dataframe thead th {\n",
       "        text-align: right;\n",
       "    }\n",
       "</style>\n",
       "<table border=\"1\" class=\"dataframe\">\n",
       "  <thead>\n",
       "    <tr style=\"text-align: right;\">\n",
       "      <th></th>\n",
       "      <th>application_dm_id</th>\n",
       "      <th>campaign_id</th>\n",
       "      <th>adset_id</th>\n",
       "      <th>ad_id</th>\n",
       "      <th>publisher_site_id</th>\n",
       "    </tr>\n",
       "  </thead>\n",
       "  <tbody>\n",
       "    <tr>\n",
       "      <th>0</th>\n",
       "      <td>18</td>\n",
       "      <td>6</td>\n",
       "      <td>1</td>\n",
       "      <td>8</td>\n",
       "      <td>103</td>\n",
       "    </tr>\n",
       "    <tr>\n",
       "      <th>1</th>\n",
       "      <td>18</td>\n",
       "      <td>1</td>\n",
       "      <td>1</td>\n",
       "      <td>1</td>\n",
       "      <td>1</td>\n",
       "    </tr>\n",
       "    <tr>\n",
       "      <th>2</th>\n",
       "      <td>9541</td>\n",
       "      <td>552</td>\n",
       "      <td>705</td>\n",
       "      <td>453</td>\n",
       "      <td>1</td>\n",
       "    </tr>\n",
       "    <tr>\n",
       "      <th>3</th>\n",
       "      <td>74</td>\n",
       "      <td>1</td>\n",
       "      <td>1</td>\n",
       "      <td>1</td>\n",
       "      <td>1</td>\n",
       "    </tr>\n",
       "    <tr>\n",
       "      <th>4</th>\n",
       "      <td>3753</td>\n",
       "      <td>1</td>\n",
       "      <td>1</td>\n",
       "      <td>1</td>\n",
       "      <td>1</td>\n",
       "    </tr>\n",
       "    <tr>\n",
       "      <th>...</th>\n",
       "      <td>...</td>\n",
       "      <td>...</td>\n",
       "      <td>...</td>\n",
       "      <td>...</td>\n",
       "      <td>...</td>\n",
       "    </tr>\n",
       "    <tr>\n",
       "      <th>499995</th>\n",
       "      <td>27</td>\n",
       "      <td>1</td>\n",
       "      <td>1</td>\n",
       "      <td>1</td>\n",
       "      <td>1</td>\n",
       "    </tr>\n",
       "    <tr>\n",
       "      <th>499996</th>\n",
       "      <td>74</td>\n",
       "      <td>1</td>\n",
       "      <td>1</td>\n",
       "      <td>1</td>\n",
       "      <td>1</td>\n",
       "    </tr>\n",
       "    <tr>\n",
       "      <th>499997</th>\n",
       "      <td>5234</td>\n",
       "      <td>437</td>\n",
       "      <td>587</td>\n",
       "      <td>350</td>\n",
       "      <td>1</td>\n",
       "    </tr>\n",
       "    <tr>\n",
       "      <th>499998</th>\n",
       "      <td>16792</td>\n",
       "      <td>1290</td>\n",
       "      <td>1</td>\n",
       "      <td>1</td>\n",
       "      <td>1</td>\n",
       "    </tr>\n",
       "    <tr>\n",
       "      <th>499999</th>\n",
       "      <td>27</td>\n",
       "      <td>1</td>\n",
       "      <td>1</td>\n",
       "      <td>1</td>\n",
       "      <td>1</td>\n",
       "    </tr>\n",
       "  </tbody>\n",
       "</table>\n",
       "<p>500000 rows × 5 columns</p>\n",
       "</div>"
      ],
      "text/plain": [
       "        application_dm_id  campaign_id  adset_id  ad_id  publisher_site_id\n",
       "0                      18            6         1      8                103\n",
       "1                      18            1         1      1                  1\n",
       "2                    9541          552       705    453                  1\n",
       "3                      74            1         1      1                  1\n",
       "4                    3753            1         1      1                  1\n",
       "...                   ...          ...       ...    ...                ...\n",
       "499995                 27            1         1      1                  1\n",
       "499996                 74            1         1      1                  1\n",
       "499997               5234          437       587    350                  1\n",
       "499998              16792         1290         1      1                  1\n",
       "499999                 27            1         1      1                  1\n",
       "\n",
       "[500000 rows x 5 columns]"
      ]
     },
     "execution_count": 66,
     "metadata": {},
     "output_type": "execute_result"
    }
   ],
   "source": [
    "df[cols]"
   ]
  },
  {
   "cell_type": "code",
   "execution_count": 67,
   "metadata": {},
   "outputs": [
    {
     "data": {
      "text/plain": [
       "1     45.33%\n",
       "10    12.26%\n",
       "8     10.34%\n",
       "5     10.27%\n",
       "4      7.06%\n",
       "2      5.21%\n",
       "11     3.33%\n",
       "6      3.26%\n",
       "27      1.7%\n",
       "24     0.42%\n",
       "Name: media_source, dtype: object"
      ]
     },
     "execution_count": 67,
     "metadata": {},
     "output_type": "execute_result"
    }
   ],
   "source": [
    "df['media_source'].value_counts(normalize=True).head(10).mul(100).round(2).astype('str') + '%'"
   ]
  },
  {
   "cell_type": "code",
   "execution_count": 68,
   "metadata": {},
   "outputs": [
    {
     "data": {
      "text/html": [
       "<div>\n",
       "<style scoped>\n",
       "    .dataframe tbody tr th:only-of-type {\n",
       "        vertical-align: middle;\n",
       "    }\n",
       "\n",
       "    .dataframe tbody tr th {\n",
       "        vertical-align: top;\n",
       "    }\n",
       "\n",
       "    .dataframe thead th {\n",
       "        text-align: right;\n",
       "    }\n",
       "</style>\n",
       "<table border=\"1\" class=\"dataframe\">\n",
       "  <thead>\n",
       "    <tr style=\"text-align: right;\">\n",
       "      <th></th>\n",
       "      <th>application_dm_id</th>\n",
       "      <th>install_dttm</th>\n",
       "      <th>country_code</th>\n",
       "      <th>media_source</th>\n",
       "      <th>device_type</th>\n",
       "      <th>is_trial</th>\n",
       "      <th>app_version</th>\n",
       "      <th>campaign_id</th>\n",
       "      <th>os_name</th>\n",
       "      <th>city</th>\n",
       "      <th>adset_id</th>\n",
       "      <th>ad_id</th>\n",
       "      <th>publisher_site_id</th>\n",
       "      <th>device_locale</th>\n",
       "      <th>impressions0</th>\n",
       "      <th>impressions1</th>\n",
       "      <th>impressions2</th>\n",
       "      <th>impressions3</th>\n",
       "      <th>revenue0</th>\n",
       "      <th>revenue1</th>\n",
       "      <th>revenue2</th>\n",
       "      <th>revenue3</th>\n",
       "      <th>target</th>\n",
       "    </tr>\n",
       "  </thead>\n",
       "  <tbody>\n",
       "    <tr>\n",
       "      <th>35262</th>\n",
       "      <td>2774</td>\n",
       "      <td>2020-02-16 19:02:48</td>\n",
       "      <td>22</td>\n",
       "      <td>1</td>\n",
       "      <td>1</td>\n",
       "      <td>0</td>\n",
       "      <td>188</td>\n",
       "      <td>1</td>\n",
       "      <td>1</td>\n",
       "      <td>200</td>\n",
       "      <td>1</td>\n",
       "      <td>1</td>\n",
       "      <td>1</td>\n",
       "      <td>103</td>\n",
       "      <td>2</td>\n",
       "      <td>0</td>\n",
       "      <td>0</td>\n",
       "      <td>0</td>\n",
       "      <td>0.002904</td>\n",
       "      <td>0.000000</td>\n",
       "      <td>0.0</td>\n",
       "      <td>0.0</td>\n",
       "      <td>0.002904</td>\n",
       "    </tr>\n",
       "    <tr>\n",
       "      <th>228233</th>\n",
       "      <td>16792</td>\n",
       "      <td>2020-04-20 17:42:53</td>\n",
       "      <td>2</td>\n",
       "      <td>10</td>\n",
       "      <td>2</td>\n",
       "      <td>0</td>\n",
       "      <td>66</td>\n",
       "      <td>1295</td>\n",
       "      <td>2</td>\n",
       "      <td>9988</td>\n",
       "      <td>2073</td>\n",
       "      <td>565</td>\n",
       "      <td>1</td>\n",
       "      <td>2</td>\n",
       "      <td>2</td>\n",
       "      <td>0</td>\n",
       "      <td>0</td>\n",
       "      <td>0</td>\n",
       "      <td>0.398440</td>\n",
       "      <td>0.000000</td>\n",
       "      <td>0.0</td>\n",
       "      <td>0.0</td>\n",
       "      <td>0.398440</td>\n",
       "    </tr>\n",
       "    <tr>\n",
       "      <th>340536</th>\n",
       "      <td>39</td>\n",
       "      <td>2020-04-02 03:16:36</td>\n",
       "      <td>61</td>\n",
       "      <td>11</td>\n",
       "      <td>1</td>\n",
       "      <td>0</td>\n",
       "      <td>286</td>\n",
       "      <td>833</td>\n",
       "      <td>2</td>\n",
       "      <td>79343</td>\n",
       "      <td>1081</td>\n",
       "      <td>1</td>\n",
       "      <td>1</td>\n",
       "      <td>58</td>\n",
       "      <td>0</td>\n",
       "      <td>0</td>\n",
       "      <td>0</td>\n",
       "      <td>0</td>\n",
       "      <td>0.000000</td>\n",
       "      <td>0.000000</td>\n",
       "      <td>0.0</td>\n",
       "      <td>0.0</td>\n",
       "      <td>0.000000</td>\n",
       "    </tr>\n",
       "    <tr>\n",
       "      <th>297743</th>\n",
       "      <td>28</td>\n",
       "      <td>2020-02-09 10:17:59</td>\n",
       "      <td>77</td>\n",
       "      <td>4</td>\n",
       "      <td>1</td>\n",
       "      <td>0</td>\n",
       "      <td>8</td>\n",
       "      <td>788</td>\n",
       "      <td>2</td>\n",
       "      <td>1933</td>\n",
       "      <td>1</td>\n",
       "      <td>58</td>\n",
       "      <td>12958</td>\n",
       "      <td>70</td>\n",
       "      <td>18</td>\n",
       "      <td>0</td>\n",
       "      <td>0</td>\n",
       "      <td>0</td>\n",
       "      <td>0.076401</td>\n",
       "      <td>0.000000</td>\n",
       "      <td>0.0</td>\n",
       "      <td>0.0</td>\n",
       "      <td>0.076401</td>\n",
       "    </tr>\n",
       "    <tr>\n",
       "      <th>62313</th>\n",
       "      <td>18</td>\n",
       "      <td>2020-02-05 15:07:43</td>\n",
       "      <td>10</td>\n",
       "      <td>1</td>\n",
       "      <td>1</td>\n",
       "      <td>0</td>\n",
       "      <td>4</td>\n",
       "      <td>1</td>\n",
       "      <td>1</td>\n",
       "      <td>3574</td>\n",
       "      <td>1</td>\n",
       "      <td>1</td>\n",
       "      <td>1</td>\n",
       "      <td>52</td>\n",
       "      <td>26</td>\n",
       "      <td>8</td>\n",
       "      <td>0</td>\n",
       "      <td>0</td>\n",
       "      <td>0.017552</td>\n",
       "      <td>0.011936</td>\n",
       "      <td>0.0</td>\n",
       "      <td>0.0</td>\n",
       "      <td>0.029488</td>\n",
       "    </tr>\n",
       "    <tr>\n",
       "      <th>233964</th>\n",
       "      <td>29</td>\n",
       "      <td>2020-03-17 08:05:05</td>\n",
       "      <td>26</td>\n",
       "      <td>5</td>\n",
       "      <td>1</td>\n",
       "      <td>0</td>\n",
       "      <td>58</td>\n",
       "      <td>129</td>\n",
       "      <td>1</td>\n",
       "      <td>53</td>\n",
       "      <td>1</td>\n",
       "      <td>1</td>\n",
       "      <td>1</td>\n",
       "      <td>22</td>\n",
       "      <td>5</td>\n",
       "      <td>0</td>\n",
       "      <td>0</td>\n",
       "      <td>0</td>\n",
       "      <td>0.026424</td>\n",
       "      <td>0.000000</td>\n",
       "      <td>0.0</td>\n",
       "      <td>0.0</td>\n",
       "      <td>0.026424</td>\n",
       "    </tr>\n",
       "    <tr>\n",
       "      <th>162893</th>\n",
       "      <td>5234</td>\n",
       "      <td>2020-02-27 22:12:11</td>\n",
       "      <td>4</td>\n",
       "      <td>8</td>\n",
       "      <td>1</td>\n",
       "      <td>0</td>\n",
       "      <td>3</td>\n",
       "      <td>463</td>\n",
       "      <td>1</td>\n",
       "      <td>22966</td>\n",
       "      <td>1</td>\n",
       "      <td>340</td>\n",
       "      <td>5330</td>\n",
       "      <td>4</td>\n",
       "      <td>8</td>\n",
       "      <td>10</td>\n",
       "      <td>0</td>\n",
       "      <td>0</td>\n",
       "      <td>0.041264</td>\n",
       "      <td>0.040530</td>\n",
       "      <td>0.0</td>\n",
       "      <td>0.0</td>\n",
       "      <td>0.106112</td>\n",
       "    </tr>\n",
       "    <tr>\n",
       "      <th>28098</th>\n",
       "      <td>29</td>\n",
       "      <td>2020-03-13 19:58:09</td>\n",
       "      <td>4</td>\n",
       "      <td>5</td>\n",
       "      <td>1</td>\n",
       "      <td>0</td>\n",
       "      <td>58</td>\n",
       "      <td>115</td>\n",
       "      <td>1</td>\n",
       "      <td>2291</td>\n",
       "      <td>1</td>\n",
       "      <td>1</td>\n",
       "      <td>1</td>\n",
       "      <td>4</td>\n",
       "      <td>8</td>\n",
       "      <td>0</td>\n",
       "      <td>0</td>\n",
       "      <td>0</td>\n",
       "      <td>0.021254</td>\n",
       "      <td>0.000000</td>\n",
       "      <td>0.0</td>\n",
       "      <td>0.0</td>\n",
       "      <td>0.021254</td>\n",
       "    </tr>\n",
       "    <tr>\n",
       "      <th>233316</th>\n",
       "      <td>9541</td>\n",
       "      <td>2020-02-28 16:53:34</td>\n",
       "      <td>29</td>\n",
       "      <td>10</td>\n",
       "      <td>1</td>\n",
       "      <td>0</td>\n",
       "      <td>215</td>\n",
       "      <td>550</td>\n",
       "      <td>1</td>\n",
       "      <td>5699</td>\n",
       "      <td>703</td>\n",
       "      <td>452</td>\n",
       "      <td>1</td>\n",
       "      <td>73</td>\n",
       "      <td>33</td>\n",
       "      <td>0</td>\n",
       "      <td>0</td>\n",
       "      <td>0</td>\n",
       "      <td>0.074071</td>\n",
       "      <td>0.000000</td>\n",
       "      <td>0.0</td>\n",
       "      <td>0.0</td>\n",
       "      <td>0.074071</td>\n",
       "    </tr>\n",
       "    <tr>\n",
       "      <th>215947</th>\n",
       "      <td>14932</td>\n",
       "      <td>2020-04-20 06:41:39</td>\n",
       "      <td>21</td>\n",
       "      <td>8</td>\n",
       "      <td>1</td>\n",
       "      <td>0</td>\n",
       "      <td>3</td>\n",
       "      <td>645</td>\n",
       "      <td>1</td>\n",
       "      <td>14412</td>\n",
       "      <td>1</td>\n",
       "      <td>531</td>\n",
       "      <td>9889</td>\n",
       "      <td>9</td>\n",
       "      <td>1</td>\n",
       "      <td>0</td>\n",
       "      <td>0</td>\n",
       "      <td>0</td>\n",
       "      <td>0.065550</td>\n",
       "      <td>0.000000</td>\n",
       "      <td>0.0</td>\n",
       "      <td>0.0</td>\n",
       "      <td>0.065550</td>\n",
       "    </tr>\n",
       "  </tbody>\n",
       "</table>\n",
       "</div>"
      ],
      "text/plain": [
       "        application_dm_id         install_dttm  country_code  media_source  \\\n",
       "35262                2774  2020-02-16 19:02:48            22             1   \n",
       "228233              16792  2020-04-20 17:42:53             2            10   \n",
       "340536                 39  2020-04-02 03:16:36            61            11   \n",
       "297743                 28  2020-02-09 10:17:59            77             4   \n",
       "62313                  18  2020-02-05 15:07:43            10             1   \n",
       "233964                 29  2020-03-17 08:05:05            26             5   \n",
       "162893               5234  2020-02-27 22:12:11             4             8   \n",
       "28098                  29  2020-03-13 19:58:09             4             5   \n",
       "233316               9541  2020-02-28 16:53:34            29            10   \n",
       "215947              14932  2020-04-20 06:41:39            21             8   \n",
       "\n",
       "        device_type  is_trial  app_version  campaign_id  os_name   city  \\\n",
       "35262             1         0          188            1        1    200   \n",
       "228233            2         0           66         1295        2   9988   \n",
       "340536            1         0          286          833        2  79343   \n",
       "297743            1         0            8          788        2   1933   \n",
       "62313             1         0            4            1        1   3574   \n",
       "233964            1         0           58          129        1     53   \n",
       "162893            1         0            3          463        1  22966   \n",
       "28098             1         0           58          115        1   2291   \n",
       "233316            1         0          215          550        1   5699   \n",
       "215947            1         0            3          645        1  14412   \n",
       "\n",
       "        adset_id  ad_id  publisher_site_id  device_locale  impressions0  \\\n",
       "35262          1      1                  1            103             2   \n",
       "228233      2073    565                  1              2             2   \n",
       "340536      1081      1                  1             58             0   \n",
       "297743         1     58              12958             70            18   \n",
       "62313          1      1                  1             52            26   \n",
       "233964         1      1                  1             22             5   \n",
       "162893         1    340               5330              4             8   \n",
       "28098          1      1                  1              4             8   \n",
       "233316       703    452                  1             73            33   \n",
       "215947         1    531               9889              9             1   \n",
       "\n",
       "        impressions1  impressions2  impressions3  revenue0  revenue1  \\\n",
       "35262              0             0             0  0.002904  0.000000   \n",
       "228233             0             0             0  0.398440  0.000000   \n",
       "340536             0             0             0  0.000000  0.000000   \n",
       "297743             0             0             0  0.076401  0.000000   \n",
       "62313              8             0             0  0.017552  0.011936   \n",
       "233964             0             0             0  0.026424  0.000000   \n",
       "162893            10             0             0  0.041264  0.040530   \n",
       "28098              0             0             0  0.021254  0.000000   \n",
       "233316             0             0             0  0.074071  0.000000   \n",
       "215947             0             0             0  0.065550  0.000000   \n",
       "\n",
       "        revenue2  revenue3    target  \n",
       "35262        0.0       0.0  0.002904  \n",
       "228233       0.0       0.0  0.398440  \n",
       "340536       0.0       0.0  0.000000  \n",
       "297743       0.0       0.0  0.076401  \n",
       "62313        0.0       0.0  0.029488  \n",
       "233964       0.0       0.0  0.026424  \n",
       "162893       0.0       0.0  0.106112  \n",
       "28098        0.0       0.0  0.021254  \n",
       "233316       0.0       0.0  0.074071  \n",
       "215947       0.0       0.0  0.065550  "
      ]
     },
     "execution_count": 68,
     "metadata": {},
     "output_type": "execute_result"
    }
   ],
   "source": [
    "df.sample(10)"
   ]
  },
  {
   "cell_type": "code",
   "execution_count": 73,
   "metadata": {},
   "outputs": [
    {
     "data": {
      "text/plain": [
       "application_dm_id  country_code  media_source  install_month\n",
       "6                  1             1             2                 1\n",
       "                                               3                 2\n",
       "                   2             1             2                 4\n",
       "                                               3                 6\n",
       "                                               4                 3\n",
       "                                                                ..\n",
       "21724              2             10            4                 1\n",
       "                   10            1             4                 1\n",
       "                   166           2             4                47\n",
       "22824              2             2             4                 1\n",
       "                   45            2             4                 1\n",
       "Name: target, Length: 20867, dtype: int64"
      ]
     },
     "execution_count": 73,
     "metadata": {},
     "output_type": "execute_result"
    }
   ],
   "source": [
    "df.groupby(['application_dm_id', 'country_code', 'media_source', 'install_month'])['target'].count()"
   ]
  },
  {
   "cell_type": "code",
   "execution_count": null,
   "metadata": {},
   "outputs": [],
   "source": []
  },
  {
   "cell_type": "code",
   "execution_count": 49,
   "metadata": {},
   "outputs": [],
   "source": []
  },
  {
   "cell_type": "code",
   "execution_count": null,
   "metadata": {},
   "outputs": [],
   "source": []
  },
  {
   "cell_type": "code",
   "execution_count": 17,
   "metadata": {},
   "outputs": [
    {
     "data": {
      "text/html": [
       "<div>\n",
       "<style scoped>\n",
       "    .dataframe tbody tr th:only-of-type {\n",
       "        vertical-align: middle;\n",
       "    }\n",
       "\n",
       "    .dataframe tbody tr th {\n",
       "        vertical-align: top;\n",
       "    }\n",
       "\n",
       "    .dataframe thead th {\n",
       "        text-align: right;\n",
       "    }\n",
       "</style>\n",
       "<table border=\"1\" class=\"dataframe\">\n",
       "  <thead>\n",
       "    <tr style=\"text-align: right;\">\n",
       "      <th></th>\n",
       "      <th>install_month</th>\n",
       "      <th>install_week</th>\n",
       "      <th>revenue0</th>\n",
       "      <th>revenue1</th>\n",
       "      <th>revenue2</th>\n",
       "    </tr>\n",
       "  </thead>\n",
       "  <tbody>\n",
       "    <tr>\n",
       "      <th>0</th>\n",
       "      <td>2</td>\n",
       "      <td>6</td>\n",
       "      <td>4130.891482</td>\n",
       "      <td>1227.422410</td>\n",
       "      <td>528.212082</td>\n",
       "    </tr>\n",
       "    <tr>\n",
       "      <th>1</th>\n",
       "      <td>2</td>\n",
       "      <td>7</td>\n",
       "      <td>4866.331382</td>\n",
       "      <td>1480.833540</td>\n",
       "      <td>692.590225</td>\n",
       "    </tr>\n",
       "    <tr>\n",
       "      <th>2</th>\n",
       "      <td>2</td>\n",
       "      <td>8</td>\n",
       "      <td>3746.316029</td>\n",
       "      <td>1209.712753</td>\n",
       "      <td>477.729841</td>\n",
       "    </tr>\n",
       "    <tr>\n",
       "      <th>3</th>\n",
       "      <td>2</td>\n",
       "      <td>9</td>\n",
       "      <td>3295.675743</td>\n",
       "      <td>1286.747917</td>\n",
       "      <td>494.947811</td>\n",
       "    </tr>\n",
       "    <tr>\n",
       "      <th>4</th>\n",
       "      <td>3</td>\n",
       "      <td>9</td>\n",
       "      <td>741.727760</td>\n",
       "      <td>242.575598</td>\n",
       "      <td>122.657272</td>\n",
       "    </tr>\n",
       "    <tr>\n",
       "      <th>5</th>\n",
       "      <td>3</td>\n",
       "      <td>10</td>\n",
       "      <td>3937.728516</td>\n",
       "      <td>1471.389248</td>\n",
       "      <td>722.377774</td>\n",
       "    </tr>\n",
       "    <tr>\n",
       "      <th>6</th>\n",
       "      <td>3</td>\n",
       "      <td>11</td>\n",
       "      <td>3042.663573</td>\n",
       "      <td>1013.733349</td>\n",
       "      <td>477.579367</td>\n",
       "    </tr>\n",
       "    <tr>\n",
       "      <th>7</th>\n",
       "      <td>3</td>\n",
       "      <td>12</td>\n",
       "      <td>3968.691665</td>\n",
       "      <td>1247.570362</td>\n",
       "      <td>491.346821</td>\n",
       "    </tr>\n",
       "    <tr>\n",
       "      <th>8</th>\n",
       "      <td>3</td>\n",
       "      <td>13</td>\n",
       "      <td>3030.164521</td>\n",
       "      <td>1020.128143</td>\n",
       "      <td>386.924412</td>\n",
       "    </tr>\n",
       "    <tr>\n",
       "      <th>9</th>\n",
       "      <td>3</td>\n",
       "      <td>14</td>\n",
       "      <td>617.439069</td>\n",
       "      <td>179.417090</td>\n",
       "      <td>70.326535</td>\n",
       "    </tr>\n",
       "    <tr>\n",
       "      <th>10</th>\n",
       "      <td>4</td>\n",
       "      <td>14</td>\n",
       "      <td>1983.727171</td>\n",
       "      <td>758.836542</td>\n",
       "      <td>378.737483</td>\n",
       "    </tr>\n",
       "    <tr>\n",
       "      <th>11</th>\n",
       "      <td>4</td>\n",
       "      <td>15</td>\n",
       "      <td>4682.620869</td>\n",
       "      <td>1602.899039</td>\n",
       "      <td>591.627302</td>\n",
       "    </tr>\n",
       "    <tr>\n",
       "      <th>12</th>\n",
       "      <td>4</td>\n",
       "      <td>16</td>\n",
       "      <td>10539.820549</td>\n",
       "      <td>2965.856283</td>\n",
       "      <td>1135.636464</td>\n",
       "    </tr>\n",
       "    <tr>\n",
       "      <th>13</th>\n",
       "      <td>4</td>\n",
       "      <td>17</td>\n",
       "      <td>4760.240688</td>\n",
       "      <td>1313.311709</td>\n",
       "      <td>494.218010</td>\n",
       "    </tr>\n",
       "  </tbody>\n",
       "</table>\n",
       "</div>"
      ],
      "text/plain": [
       "    install_month  install_week      revenue0     revenue1     revenue2\n",
       "0               2             6   4130.891482  1227.422410   528.212082\n",
       "1               2             7   4866.331382  1480.833540   692.590225\n",
       "2               2             8   3746.316029  1209.712753   477.729841\n",
       "3               2             9   3295.675743  1286.747917   494.947811\n",
       "4               3             9    741.727760   242.575598   122.657272\n",
       "5               3            10   3937.728516  1471.389248   722.377774\n",
       "6               3            11   3042.663573  1013.733349   477.579367\n",
       "7               3            12   3968.691665  1247.570362   491.346821\n",
       "8               3            13   3030.164521  1020.128143   386.924412\n",
       "9               3            14    617.439069   179.417090    70.326535\n",
       "10              4            14   1983.727171   758.836542   378.737483\n",
       "11              4            15   4682.620869  1602.899039   591.627302\n",
       "12              4            16  10539.820549  2965.856283  1135.636464\n",
       "13              4            17   4760.240688  1313.311709   494.218010"
      ]
     },
     "execution_count": 17,
     "metadata": {},
     "output_type": "execute_result"
    }
   ],
   "source": [
    "grouped = df.groupby(['install_month', 'install_week'])\n",
    "cohorts = grouped[['revenue0', 'revenue1', 'revenue2']].sum().reset_index()\n",
    "cohorts"
   ]
  },
  {
   "cell_type": "code",
   "execution_count": 28,
   "metadata": {},
   "outputs": [
    {
     "data": {
      "text/html": [
       "<div>\n",
       "<style scoped>\n",
       "    .dataframe tbody tr th:only-of-type {\n",
       "        vertical-align: middle;\n",
       "    }\n",
       "\n",
       "    .dataframe tbody tr th {\n",
       "        vertical-align: top;\n",
       "    }\n",
       "\n",
       "    .dataframe thead th {\n",
       "        text-align: right;\n",
       "    }\n",
       "</style>\n",
       "<table border=\"1\" class=\"dataframe\">\n",
       "  <thead>\n",
       "    <tr style=\"text-align: right;\">\n",
       "      <th></th>\n",
       "      <th>1 неделя</th>\n",
       "      <th>2 неделя</th>\n",
       "      <th>3 неделя</th>\n",
       "      <th>4 неделя</th>\n",
       "    </tr>\n",
       "  </thead>\n",
       "  <tbody>\n",
       "    <tr>\n",
       "      <th>install_week</th>\n",
       "      <td>6.000000</td>\n",
       "      <td>7.000000</td>\n",
       "      <td>8.000000</td>\n",
       "      <td>9.000000</td>\n",
       "    </tr>\n",
       "    <tr>\n",
       "      <th>revenue0</th>\n",
       "      <td>4130.891482</td>\n",
       "      <td>4866.331382</td>\n",
       "      <td>3746.316029</td>\n",
       "      <td>3295.675743</td>\n",
       "    </tr>\n",
       "    <tr>\n",
       "      <th>revenue1</th>\n",
       "      <td>1227.422410</td>\n",
       "      <td>1480.833540</td>\n",
       "      <td>1209.712753</td>\n",
       "      <td>1286.747917</td>\n",
       "    </tr>\n",
       "    <tr>\n",
       "      <th>revenue2</th>\n",
       "      <td>528.212082</td>\n",
       "      <td>692.590225</td>\n",
       "      <td>477.729841</td>\n",
       "      <td>494.947811</td>\n",
       "    </tr>\n",
       "  </tbody>\n",
       "</table>\n",
       "</div>"
      ],
      "text/plain": [
       "                 1 неделя     2 неделя     3 неделя     4 неделя\n",
       "install_week     6.000000     7.000000     8.000000     9.000000\n",
       "revenue0      4130.891482  4866.331382  3746.316029  3295.675743\n",
       "revenue1      1227.422410  1480.833540  1209.712753  1286.747917\n",
       "revenue2       528.212082   692.590225   477.729841   494.947811"
      ]
     },
     "execution_count": 28,
     "metadata": {},
     "output_type": "execute_result"
    }
   ],
   "source": [
    "cohorts[cohorts['install_month'] == 2].drop('install_month', axis=1).T.rename(columns={0: '1 неделя', 1: '2 неделя', 2: '3 неделя', 3: '4 неделя'})"
   ]
  },
  {
   "cell_type": "code",
   "execution_count": 43,
   "metadata": {},
   "outputs": [
    {
     "data": {
      "text/plain": [
       "<matplotlib.axes._subplots.AxesSubplot at 0x7f71461b95c0>"
      ]
     },
     "execution_count": 43,
     "metadata": {},
     "output_type": "execute_result"
    },
    {
     "data": {
      "image/png": "[encoded data removed]",
      "text/plain": [
       "<Figure size 432x288 with 1 Axes>"
      ]
     },
     "metadata": {
      "needs_background": "light"
     },
     "output_type": "display_data"
    },
    {
     "data": {
      "image/png": "[encoded data removed]",
      "text/plain": [
       "<Figure size 432x288 with 1 Axes>"
      ]
     },
     "metadata": {
      "needs_background": "light"
     },
     "output_type": "display_data"
    },
    {
     "data": {
      "image/png": "[encoded data removed]",
      "text/plain": [
       "<Figure size 432x288 with 1 Axes>"
      ]
     },
     "metadata": {
      "needs_background": "light"
     },
     "output_type": "display_data"
    }
   ],
   "source": []
  },
  {
   "cell_type": "code",
   "execution_count": null,
   "metadata": {},
   "outputs": [],
   "source": []
  },
  {
   "cell_type": "code",
   "execution_count": 6,
   "metadata": {},
   "outputs": [],
   "source": [
    "# Подумать, что у нас является периодом, а что нет\n",
    "# Куда лучше всего запихнуть дни и недели"
   ]
  },
  {
   "cell_type": "code",
   "execution_count": null,
   "metadata": {},
   "outputs": [],
   "source": []
  },
  {
   "cell_type": "code",
   "execution_count": 194,
   "metadata": {},
   "outputs": [
    {
     "data": {
      "image/png": "[encoded data removed]",
      "text/plain": [
       "<Figure size 864x648 with 1 Axes>"
      ]
     },
     "metadata": {
      "needs_background": "light"
     },
     "output_type": "display_data"
    }
   ],
   "source": []
  },
  {
   "cell_type": "code",
   "execution_count": null,
   "metadata": {},
   "outputs": [],
   "source": []
  },
  {
   "cell_type": "code",
   "execution_count": null,
   "metadata": {},
   "outputs": [],
   "source": []
  },
  {
   "cell_type": "code",
   "execution_count": 187,
   "metadata": {},
   "outputs": [],
   "source": [
    "def plot_distribution(df: pd.DataFrame, by: str) -> None:\n",
    "    \"\"\"\n",
    "    The distribution of the number of installations by month\n",
    "    or the week ordinal of the year.\n",
    "    \n",
    "    Parameters\n",
    "    ----------\n",
    "    df : pd.DataFrame\n",
    "        Data for analysis.\n",
    "    by : {'week', 'month'}\n",
    "        Used to determine the groups for the groupby.\n",
    "    \"\"\"\n",
    "\n",
    "    plt.figure(figsize=(12, 9))\n",
    "    plt.plot(\n",
    "        df.groupby(f'install_{by}', as_index=False).agg({'target': 'sum'})['target'],\n",
    "        ':', color='black', alpha=0.6, label='Total revenues'\n",
    "    )\n",
    "    sns.countplot(df[f'install_{by}'])\n",
    "    if by == 'month':\n",
    "        plt.xticks(range(3), ['February', 'March', 'May'])\n",
    "    plt.xlabel(f'Installation {by}', fontsize=16)\n",
    "    plt.ylabel('Number of installations', fontsize=16)\n",
    "    plt.legend(fontsize=14)\n",
    "    plt.grid(axis='y', alpha=0.4)\n",
    "    plt.title(f'The distribution of the number of installations by {by}', fontsize=18)\n",
    "    plt.show()"
   ]
  },
  {
   "cell_type": "code",
   "execution_count": 190,
   "metadata": {},
   "outputs": [
    {
     "data": {
      "image/png": "[encoded data removed]",
      "text/plain": [
       "<Figure size 864x648 with 1 Axes>"
      ]
     },
     "metadata": {
      "needs_background": "light"
     },
     "output_type": "display_data"
    },
    {
     "data": {
      "image/png": "[encoded data removed]",
      "text/plain": [
       "<Figure size 864x648 with 1 Axes>"
      ]
     },
     "metadata": {
      "needs_background": "light"
     },
     "output_type": "display_data"
    }
   ],
   "source": []
  },
  {
   "cell_type": "code",
   "execution_count": 93,
   "metadata": {},
   "outputs": [
    {
     "data": {
      "text/html": [
       "<div>\n",
       "<style scoped>\n",
       "    .dataframe tbody tr th:only-of-type {\n",
       "        vertical-align: middle;\n",
       "    }\n",
       "\n",
       "    .dataframe tbody tr th {\n",
       "        vertical-align: top;\n",
       "    }\n",
       "\n",
       "    .dataframe thead th {\n",
       "        text-align: right;\n",
       "    }\n",
       "</style>\n",
       "<table border=\"1\" class=\"dataframe\">\n",
       "  <thead>\n",
       "    <tr style=\"text-align: right;\">\n",
       "      <th></th>\n",
       "      <th>application_dm_id</th>\n",
       "      <th>install_dttm</th>\n",
       "      <th>country_code</th>\n",
       "      <th>media_source</th>\n",
       "      <th>device_type</th>\n",
       "      <th>is_trial</th>\n",
       "      <th>app_version</th>\n",
       "      <th>campaign_id</th>\n",
       "      <th>os_name</th>\n",
       "      <th>city</th>\n",
       "      <th>adset_id</th>\n",
       "      <th>ad_id</th>\n",
       "      <th>publisher_site_id</th>\n",
       "      <th>device_locale</th>\n",
       "      <th>impressions0</th>\n",
       "      <th>impressions1</th>\n",
       "      <th>impressions2</th>\n",
       "      <th>impressions3</th>\n",
       "      <th>revenue0</th>\n",
       "      <th>revenue1</th>\n",
       "      <th>revenue2</th>\n",
       "      <th>revenue3</th>\n",
       "      <th>target</th>\n",
       "      <th>install_week</th>\n",
       "      <th>install_month</th>\n",
       "      <th>install_is_weekend</th>\n",
       "    </tr>\n",
       "  </thead>\n",
       "  <tbody>\n",
       "    <tr>\n",
       "      <th>0</th>\n",
       "      <td>18</td>\n",
       "      <td>2020-04-05 15:07:39</td>\n",
       "      <td>44</td>\n",
       "      <td>6</td>\n",
       "      <td>1</td>\n",
       "      <td>0</td>\n",
       "      <td>22</td>\n",
       "      <td>6</td>\n",
       "      <td>1</td>\n",
       "      <td>765</td>\n",
       "      <td>1</td>\n",
       "      <td>8</td>\n",
       "      <td>103</td>\n",
       "      <td>11</td>\n",
       "      <td>25</td>\n",
       "      <td>0</td>\n",
       "      <td>0</td>\n",
       "      <td>0</td>\n",
       "      <td>0.020042</td>\n",
       "      <td>0.000000</td>\n",
       "      <td>0.000000</td>\n",
       "      <td>0.000000</td>\n",
       "      <td>0.020042</td>\n",
       "      <td>14</td>\n",
       "      <td>4</td>\n",
       "      <td>True</td>\n",
       "    </tr>\n",
       "    <tr>\n",
       "      <th>1</th>\n",
       "      <td>18</td>\n",
       "      <td>2020-02-16 21:33:12</td>\n",
       "      <td>52</td>\n",
       "      <td>1</td>\n",
       "      <td>1</td>\n",
       "      <td>0</td>\n",
       "      <td>4</td>\n",
       "      <td>1</td>\n",
       "      <td>1</td>\n",
       "      <td>120175</td>\n",
       "      <td>1</td>\n",
       "      <td>1</td>\n",
       "      <td>1</td>\n",
       "      <td>27</td>\n",
       "      <td>10</td>\n",
       "      <td>59</td>\n",
       "      <td>24</td>\n",
       "      <td>20</td>\n",
       "      <td>0.020169</td>\n",
       "      <td>0.111984</td>\n",
       "      <td>0.032424</td>\n",
       "      <td>0.098230</td>\n",
       "      <td>0.313710</td>\n",
       "      <td>7</td>\n",
       "      <td>2</td>\n",
       "      <td>True</td>\n",
       "    </tr>\n",
       "    <tr>\n",
       "      <th>2</th>\n",
       "      <td>9541</td>\n",
       "      <td>2020-03-05 01:31:00</td>\n",
       "      <td>25</td>\n",
       "      <td>10</td>\n",
       "      <td>1</td>\n",
       "      <td>0</td>\n",
       "      <td>215</td>\n",
       "      <td>552</td>\n",
       "      <td>1</td>\n",
       "      <td>29830</td>\n",
       "      <td>705</td>\n",
       "      <td>453</td>\n",
       "      <td>1</td>\n",
       "      <td>2</td>\n",
       "      <td>23</td>\n",
       "      <td>0</td>\n",
       "      <td>0</td>\n",
       "      <td>3</td>\n",
       "      <td>5.190124</td>\n",
       "      <td>0.000000</td>\n",
       "      <td>0.000000</td>\n",
       "      <td>0.604506</td>\n",
       "      <td>5.794630</td>\n",
       "      <td>10</td>\n",
       "      <td>3</td>\n",
       "      <td>False</td>\n",
       "    </tr>\n",
       "    <tr>\n",
       "      <th>3</th>\n",
       "      <td>74</td>\n",
       "      <td>2020-04-21 12:35:21</td>\n",
       "      <td>71</td>\n",
       "      <td>1</td>\n",
       "      <td>1</td>\n",
       "      <td>0</td>\n",
       "      <td>141</td>\n",
       "      <td>1</td>\n",
       "      <td>1</td>\n",
       "      <td>920</td>\n",
       "      <td>1</td>\n",
       "      <td>1</td>\n",
       "      <td>1</td>\n",
       "      <td>77</td>\n",
       "      <td>0</td>\n",
       "      <td>0</td>\n",
       "      <td>0</td>\n",
       "      <td>0</td>\n",
       "      <td>0.000000</td>\n",
       "      <td>0.000000</td>\n",
       "      <td>0.000000</td>\n",
       "      <td>0.000000</td>\n",
       "      <td>0.000000</td>\n",
       "      <td>17</td>\n",
       "      <td>4</td>\n",
       "      <td>False</td>\n",
       "    </tr>\n",
       "    <tr>\n",
       "      <th>4</th>\n",
       "      <td>3753</td>\n",
       "      <td>2020-03-05 13:31:54</td>\n",
       "      <td>2</td>\n",
       "      <td>1</td>\n",
       "      <td>1</td>\n",
       "      <td>0</td>\n",
       "      <td>3</td>\n",
       "      <td>1</td>\n",
       "      <td>2</td>\n",
       "      <td>44647</td>\n",
       "      <td>1</td>\n",
       "      <td>1</td>\n",
       "      <td>1</td>\n",
       "      <td>2</td>\n",
       "      <td>5</td>\n",
       "      <td>12</td>\n",
       "      <td>5</td>\n",
       "      <td>5</td>\n",
       "      <td>0.003989</td>\n",
       "      <td>0.238139</td>\n",
       "      <td>0.063731</td>\n",
       "      <td>0.068518</td>\n",
       "      <td>0.571443</td>\n",
       "      <td>10</td>\n",
       "      <td>3</td>\n",
       "      <td>False</td>\n",
       "    </tr>\n",
       "  </tbody>\n",
       "</table>\n",
       "</div>"
      ],
      "text/plain": [
       "   application_dm_id        install_dttm  country_code  media_source  \\\n",
       "0                 18 2020-04-05 15:07:39            44             6   \n",
       "1                 18 2020-02-16 21:33:12            52             1   \n",
       "2               9541 2020-03-05 01:31:00            25            10   \n",
       "3                 74 2020-04-21 12:35:21            71             1   \n",
       "4               3753 2020-03-05 13:31:54             2             1   \n",
       "\n",
       "   device_type  is_trial  app_version  campaign_id  os_name    city  adset_id  \\\n",
       "0            1         0           22            6        1     765         1   \n",
       "1            1         0            4            1        1  120175         1   \n",
       "2            1         0          215          552        1   29830       705   \n",
       "3            1         0          141            1        1     920         1   \n",
       "4            1         0            3            1        2   44647         1   \n",
       "\n",
       "   ad_id  publisher_site_id  device_locale  impressions0  impressions1  \\\n",
       "0      8                103             11            25             0   \n",
       "1      1                  1             27            10            59   \n",
       "2    453                  1              2            23             0   \n",
       "3      1                  1             77             0             0   \n",
       "4      1                  1              2             5            12   \n",
       "\n",
       "   impressions2  impressions3  revenue0  revenue1  revenue2  revenue3  \\\n",
       "0             0             0  0.020042  0.000000  0.000000  0.000000   \n",
       "1            24            20  0.020169  0.111984  0.032424  0.098230   \n",
       "2             0             3  5.190124  0.000000  0.000000  0.604506   \n",
       "3             0             0  0.000000  0.000000  0.000000  0.000000   \n",
       "4             5             5  0.003989  0.238139  0.063731  0.068518   \n",
       "\n",
       "     target  install_week  install_month  install_is_weekend  \n",
       "0  0.020042            14              4                True  \n",
       "1  0.313710             7              2                True  \n",
       "2  5.794630            10              3               False  \n",
       "3  0.000000            17              4               False  \n",
       "4  0.571443            10              3               False  "
      ]
     },
     "execution_count": 93,
     "metadata": {},
     "output_type": "execute_result"
    }
   ],
   "source": [
    "df.head()"
   ]
  },
  {
   "cell_type": "code",
   "execution_count": 92,
   "metadata": {},
   "outputs": [],
   "source": []
  },
  {
   "cell_type": "code",
   "execution_count": null,
   "metadata": {},
   "outputs": [],
   "source": [
    "df['install_is_weekend']"
   ]
  },
  {
   "cell_type": "code",
   "execution_count": null,
   "metadata": {},
   "outputs": [],
   "source": []
  },
  {
   "cell_type": "code",
   "execution_count": 45,
   "metadata": {},
   "outputs": [
    {
     "data": {
      "text/plain": [
       "count    500000.000000\n",
       "mean          0.201881\n",
       "std           1.212041\n",
       "min           0.000000\n",
       "25%           0.000000\n",
       "50%           0.000000\n",
       "75%           0.057732\n",
       "max         192.515075\n",
       "Name: target, dtype: float64"
      ]
     },
     "execution_count": 45,
     "metadata": {},
     "output_type": "execute_result"
    }
   ],
   "source": [
    "df['target'].describe()"
   ]
  },
  {
   "cell_type": "code",
   "execution_count": 43,
   "metadata": {},
   "outputs": [
    {
     "data": {
      "text/plain": [
       "66952    0.0%\n",
       "48479    0.0%\n",
       "44253    0.0%\n",
       "54482    0.0%\n",
       "5322     0.0%\n",
       "73776    0.0%\n",
       "43105    0.0%\n",
       "54354    0.0%\n",
       "73872    0.0%\n",
       "56852    0.0%\n",
       "Name: city, dtype: object"
      ]
     },
     "execution_count": 43,
     "metadata": {},
     "output_type": "execute_result"
    }
   ],
   "source": [
    "df[df['country_code'] == 3]['city'].value_counts(normalize=True).tail(10).mul(100).round(2).astype('str') + '%'"
   ]
  },
  {
   "cell_type": "code",
   "execution_count": 37,
   "metadata": {},
   "outputs": [
    {
     "data": {
      "text/plain": [
       "3      12.09%\n",
       "4       9.99%\n",
       "2       9.58%\n",
       "21      5.72%\n",
       "139     4.05%\n",
       "31       3.1%\n",
       "45      2.97%\n",
       "25      2.57%\n",
       "27      2.51%\n",
       "52      2.48%\n",
       "Name: country_code, dtype: object"
      ]
     },
     "execution_count": 37,
     "metadata": {},
     "output_type": "execute_result"
    }
   ],
   "source": []
  },
  {
   "cell_type": "code",
   "execution_count": null,
   "metadata": {},
   "outputs": [],
   "source": []
  },
  {
   "cell_type": "code",
   "execution_count": 7,
   "metadata": {},
   "outputs": [
    {
     "data": {
      "text/plain": [
       "(500000, 23)"
      ]
     },
     "execution_count": 7,
     "metadata": {},
     "output_type": "execute_result"
    }
   ],
   "source": [
    "# Remove duplicate items \n",
    "df = df[~df.duplicated()]\n",
    "df.shape"
   ]
  },
  {
   "cell_type": "code",
   "execution_count": 42,
   "metadata": {},
   "outputs": [],
   "source": [
    "df.index = pd.to_datetime(df['install_dttm'])"
   ]
  }
 ],
 "metadata": {
  "kernelspec": {
   "display_name": "Python 3",
   "language": "python",
   "name": "python3"
  },
  "language_info": {
   "codemirror_mode": {
    "name": "ipython",
    "version": 3
   },
   "file_extension": ".py",
   "mimetype": "text/x-python",
   "name": "python",
   "nbconvert_exporter": "python",
   "pygments_lexer": "ipython3",
   "version": "3.6.9"
  }
 },
 "nbformat": 4,
 "nbformat_minor": 4
}
